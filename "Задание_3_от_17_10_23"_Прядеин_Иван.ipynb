{
  "nbformat": 4,
  "nbformat_minor": 0,
  "metadata": {
    "colab": {
      "provenance": [],
      "collapsed_sections": [
        "HAVFiCLPo28O",
        "a1gbYjASfIqJ",
        "ZITkT8YUfM8t",
        "sqvNf2a6fTdY",
        "3V5mJOBQfYHe"
      ],
      "include_colab_link": true
    },
    "kernelspec": {
      "name": "python3",
      "display_name": "Python 3"
    },
    "language_info": {
      "name": "python"
    }
  },
  "cells": [
    {
      "cell_type": "markdown",
      "metadata": {
        "id": "view-in-github",
        "colab_type": "text"
      },
      "source": [
        "<a href=\"https://colab.research.google.com/github/pryazha/dpo_labs/blob/main/%22%D0%97%D0%B0%D0%B4%D0%B0%D0%BD%D0%B8%D0%B5_3_%D0%BE%D1%82_17_10_23%22_%D0%9F%D1%80%D1%8F%D0%B4%D0%B5%D0%B8%D0%BD_%D0%98%D0%B2%D0%B0%D0%BD.ipynb\" target=\"_parent\"><img src=\"https://colab.research.google.com/assets/colab-badge.svg\" alt=\"Open In Colab\"/></a>"
      ]
    },
    {
      "cell_type": "markdown",
      "source": [
        "# Практика 17.10.23\n",
        "\n",
        "1. Сгенерировать, используя модуль псевдослучайных чисел `random`, или ввести с клавиатуры список целых чисел. Вывести в консоль, затем перевернуть его и снова вывести в консоль.\n",
        "\n",
        "2. Сгенерировать, используя модуль псевдослучайных чисел `random`, или ввести с клавиатуры два списка целых чисел. Вывести их в консоль. Создать новый пустой список. Добавить в него все четные (по индексу) элементы первого списка и все нечетные (по индексу) элементы второго списка. Вывести третий список в консоль.\n",
        "\n",
        "3. Сгенерировать, используя модуль псевдослучайных чисел `random`, или ввести с клавиатуры список произвольных элементов (целые числа, числа с плавающей точкой, строки). Вывести в консоль. Убрать из него все дубликаты через приведение типов. Вывести в консоль.\n",
        "\n",
        "4. Сгенерировать, используя модуль псевдослучайных чисел `random`, или ввести с клавиатуры словарь, где ключом является строка, значением — целое число или число с плавающей точкой. Вывести в консоль. Для всех уникальных значений создать кортеж, где первым элементом будет значение, вторым — список связанных с ним ключей. Собрать эти кортежи в список, вывести его в консоль.\n",
        "\n",
        "5. Сгенерировать, используя модуль псевдослучайных чисел `random`, или ввести с клавиатуры два словаря, где ключом является строка, значением — целое число или число с плавающей точкой. Вывести в консоль. Найти пересечения множеств значений словарей. Создать новый словарь, содержащий только те пары ключ-значение, значения из которых входит в пересечение. Вывести в консоль.\n"
      ],
      "metadata": {
        "id": "64JPlHixec69"
      }
    },
    {
      "cell_type": "markdown",
      "source": [
        "## Задание 1"
      ],
      "metadata": {
        "id": "HAVFiCLPo28O"
      }
    },
    {
      "cell_type": "code",
      "source": [
        "from random import randint\n",
        "\n",
        "\n",
        "def IntInput(message):\n",
        "    number = None\n",
        "    while number is None:\n",
        "        try:\n",
        "            number = int(input(message))\n",
        "        except ValueError:\n",
        "            print('Invalid integer!')\n",
        "    return number\n",
        "\n",
        "\n",
        "def CreateList(size):\n",
        "    result = []\n",
        "    answer = input('Creating list:\\n1. Manual\\n2. Random\\n> ')\n",
        "    while answer != '1' and answer != '2':\n",
        "        answer = input('That answer is not exist, please enter new value\\n> ')\n",
        "\n",
        "    is_random = answer == '2'\n",
        "\n",
        "    i = 0\n",
        "    while i < size:\n",
        "        if is_random:\n",
        "            result.insert(i, randint(0, 20))\n",
        "        else:\n",
        "            result.insert(i, IntInput(''))\n",
        "        i += 1\n",
        "\n",
        "    return result\n",
        "\n",
        "\n",
        "size = IntInput('Enter list size: ')\n",
        "while size <= 0:\n",
        "    size = IntInput('Invalid size, please enter new value: ')\n",
        "numbers = CreateList(size)\n",
        "\n",
        "print('Original array: ', numbers)\n",
        "numbers.reverse()\n",
        "print('Reversed array: ', numbers)"
      ],
      "metadata": {
        "colab": {
          "base_uri": "https://localhost:8080/"
        },
        "id": "68pFsIvRPdvk",
        "outputId": "36c60265-6c0b-478e-8879-fb3ad466f6de"
      },
      "execution_count": null,
      "outputs": [
        {
          "output_type": "stream",
          "name": "stdout",
          "text": [
            "Enter list size: 10\n",
            "Creating list:\n",
            "1. Manual\n",
            "2. Random\n",
            "> 2\n",
            "Original array:  [15, 4, 11, 10, 8, 19, 4, 11, 5, 11]\n",
            "Reversed array:  [11, 5, 11, 4, 19, 8, 10, 11, 4, 15]\n"
          ]
        }
      ]
    },
    {
      "cell_type": "markdown",
      "source": [
        "## Задание 2"
      ],
      "metadata": {
        "id": "a1gbYjASfIqJ"
      }
    },
    {
      "cell_type": "code",
      "source": [
        "size = IntInput('Enter size of first list: ')\n",
        "while size <= 0:\n",
        "    size = IntInput('Invalid size, please enter new value: ')\n",
        "first_list = CreateList(size)\n",
        "\n",
        "size = IntInput('Enter size of second list: ')\n",
        "while size <= 0:\n",
        "    size = IntInput('Invalid size, please enter new value: ')\n",
        "second_list = CreateList(size)\n",
        "\n",
        "result = []\n",
        "\n",
        "for i in range(len(first_list)):\n",
        "    if i % 2 == 0:\n",
        "        result.append(first_list[i])\n",
        "\n",
        "for i in range(len(second_list)):\n",
        "    if i % 2 == 1:\n",
        "        result.append(second_list[i])\n",
        "\n",
        "print('First list: ', first_list)\n",
        "print('Second list: ', second_list)\n",
        "print('Result: ', result)"
      ],
      "metadata": {
        "id": "3DFZiLwJfMfC",
        "colab": {
          "base_uri": "https://localhost:8080/"
        },
        "outputId": "6ef3a1d6-bab6-4230-ef1a-8ecbb73d17d4"
      },
      "execution_count": null,
      "outputs": [
        {
          "output_type": "stream",
          "name": "stdout",
          "text": [
            "Enter size of first list: 10\n",
            "Creating list:\n",
            "1. Manual\n",
            "2. Random\n",
            "> 2\n",
            "Enter size of second list: 10\n",
            "Creating list:\n",
            "1. Manual\n",
            "2. Random\n",
            "> 2\n",
            "First list:  [1, 10, 0, 11, 15, 17, 1, 11, 9, 20]\n",
            "Second list:  [11, 20, 9, 0, 4, 7, 6, 18, 4, 6]\n",
            "Result:  [1, 0, 15, 1, 9, 20, 0, 7, 18, 6]\n"
          ]
        }
      ]
    },
    {
      "cell_type": "markdown",
      "source": [
        "## Задание 3"
      ],
      "metadata": {
        "id": "ZITkT8YUfM8t"
      }
    },
    {
      "cell_type": "code",
      "source": [
        "size = IntInput('Enter list size: ')\n",
        "while size <= 0:\n",
        "    size = IntInput('Invalid size, please enter new value: ')\n",
        "lst = CreateList(size)\n",
        "\n",
        "result = set(lst)\n",
        "\n",
        "print('Original list: ', lst)\n",
        "print('Result set: ', result)"
      ],
      "metadata": {
        "id": "FL_u4MSlfS1w",
        "colab": {
          "base_uri": "https://localhost:8080/"
        },
        "outputId": "e467a6c8-735a-4be9-e792-efc6503d2279"
      },
      "execution_count": null,
      "outputs": [
        {
          "output_type": "stream",
          "name": "stdout",
          "text": [
            "Enter list size: 10\n",
            "Creating list:\n",
            "1. Manual\n",
            "2. Random\n",
            "> 2\n",
            "Original list:  [12, 20, 12, 9, 2, 9, 16, 15, 5, 17]\n",
            "Result set:  {2, 5, 9, 12, 15, 16, 17, 20}\n"
          ]
        }
      ]
    },
    {
      "cell_type": "markdown",
      "source": [
        "## Задание 4"
      ],
      "metadata": {
        "id": "sqvNf2a6fTdY"
      }
    },
    {
      "cell_type": "code",
      "source": [
        "def CreateDict(size):\n",
        "    result = dict()\n",
        "    answer = input('Creating dictionary:\\n1. Manual\\n2. Random\\n> ')\n",
        "    while answer != '1' and answer != '2':\n",
        "        answer = input('That answer is not exist, please enter new value\\n> ')\n",
        "    is_random = answer == '2'\n",
        "\n",
        "    i = 0\n",
        "    while i < size:\n",
        "        if is_random:\n",
        "            result[str(i)] = randint(0, 20)\n",
        "        else:\n",
        "            key = input('key: ')\n",
        "            number = IntInput('value: ')\n",
        "            result[key] = number\n",
        "        i += 1\n",
        "\n",
        "    return result\n",
        "\n",
        "\n",
        "size = IntInput('Enter dictionary size: ')\n",
        "while size <= 0:\n",
        "    size = IntInput('Invalid size, please enter new value: ')\n",
        "my_dict = CreateDict(size)\n",
        "\n",
        "tuples = []\n",
        "for value in set(my_dict.values()):\n",
        "    keys = []\n",
        "    for key, val in my_dict.items():\n",
        "        if val == value:\n",
        "            keys.append(key)\n",
        "    tupl = (value, keys)\n",
        "    tuples.append(tupl)\n",
        "\n",
        "print('Original dictionary: ', my_dict)\n",
        "print('Result: ', tuples)"
      ],
      "metadata": {
        "id": "3M4BCixjfXoq",
        "colab": {
          "base_uri": "https://localhost:8080/"
        },
        "outputId": "da1abe95-c48c-4e4a-e2c9-53ed21ee67bc"
      },
      "execution_count": null,
      "outputs": [
        {
          "output_type": "stream",
          "name": "stdout",
          "text": [
            "Enter dictionary size: 10\n",
            "Creating dictionary:\n",
            "1. Manual\n",
            "2. Random\n",
            "> 2\n",
            "Original dictionary:  {'0': 20, '1': 8, '2': 8, '3': 14, '4': 11, '5': 15, '6': 5, '7': 1, '8': 12, '9': 15}\n",
            "Result:  [(1, ['7']), (5, ['6']), (8, ['1', '2']), (11, ['4']), (12, ['8']), (14, ['3']), (15, ['5', '9']), (20, ['0'])]\n"
          ]
        }
      ]
    },
    {
      "cell_type": "markdown",
      "source": [
        "## Задание 5"
      ],
      "metadata": {
        "id": "3V5mJOBQfYHe"
      }
    },
    {
      "cell_type": "code",
      "source": [
        "size = IntInput('Enter first dictionary size: ')\n",
        "while size <= 0:\n",
        "    size = IntInput('Invalid size, please enter new value: ')\n",
        "first_dict = CreateDict(size)\n",
        "\n",
        "size = IntInput('Enter second dictionary size: ')\n",
        "while size <= 0:\n",
        "    size = IntInput('Invalid size, please enter new value: ')\n",
        "second_dict = CreateDict(size)\n",
        "\n",
        "new_dict = dict()\n",
        "val_set = set(first_dict.values()).intersection(set(second_dict.values()))\n",
        "\n",
        "for value in val_set:\n",
        "    for key, val in first_dict.items():\n",
        "        if value == val:\n",
        "            new_dict[key] = val\n",
        "    for key, val in second_dict.items():\n",
        "        if value == val:\n",
        "            new_dict[key] = val\n",
        "\n",
        "print('First dictionary: ', first_dict)\n",
        "print('Second dictionary: ', second_dict)\n",
        "print('Result: ', new_dict)"
      ],
      "metadata": {
        "id": "ekN9ImbzfZ2Z",
        "colab": {
          "base_uri": "https://localhost:8080/"
        },
        "outputId": "5a730f33-8c1d-444c-cb9f-29d5cfb43e1d"
      },
      "execution_count": null,
      "outputs": [
        {
          "output_type": "stream",
          "name": "stdout",
          "text": [
            "Enter first dictionary size: 10\n",
            "Creating dictionary:\n",
            "1. Manual\n",
            "2. Random\n",
            "> 2\n",
            "Enter second dictionary size: 5\n",
            "Creating dictionary:\n",
            "1. Manual\n",
            "2. Random\n",
            "> 2\n",
            "First dictionary:  {'0': 2, '1': 12, '2': 9, '3': 19, '4': 2, '5': 10, '6': 6, '7': 18, '8': 16, '9': 5}\n",
            "Second dictionary:  {'0': 20, '1': 13, '2': 13, '3': 16, '4': 4}\n",
            "Result:  {'8': 16, '3': 16}\n"
          ]
        }
      ]
    }
  ]
}