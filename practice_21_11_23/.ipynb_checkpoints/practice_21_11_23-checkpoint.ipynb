{
 "cells": [
  {
   "cell_type": "markdown",
   "id": "4fa37b1c-33fd-4c66-b0a3-78b579f980f7",
   "metadata": {
    "jp-MarkdownHeadingCollapsed": true
   },
   "source": [
    "#### Упражнение № 1\n",
    "Создайте Series из каждого из элементов: списка, ndarray и словаря."
   ]
  },
  {
   "cell_type": "code",
   "execution_count": 1,
   "id": "f1ac99a6-5e40-4cc3-883a-af98349a3968",
   "metadata": {},
   "outputs": [
    {
     "name": "stdout",
     "output_type": "stream",
     "text": [
      "mylist:\n",
      " 0     a\n",
      "1     b\n",
      "2     c\n",
      "3     e\n",
      "4     d\n",
      "5     f\n",
      "6     g\n",
      "7     h\n",
      "8     i\n",
      "9     j\n",
      "10    k\n",
      "11    l\n",
      "12    m\n",
      "13    n\n",
      "14    o\n",
      "15    p\n",
      "16    q\n",
      "17    r\n",
      "18    s\n",
      "19    t\n",
      "20    u\n",
      "21    v\n",
      "22    w\n",
      "23    x\n",
      "24    y\n",
      "25    z\n",
      "dtype: object\n",
      "myarr:\n",
      " 0      0\n",
      "1      1\n",
      "2      2\n",
      "3      3\n",
      "4      4\n",
      "5      5\n",
      "6      6\n",
      "7      7\n",
      "8      8\n",
      "9      9\n",
      "10    10\n",
      "11    11\n",
      "12    12\n",
      "13    13\n",
      "14    14\n",
      "15    15\n",
      "16    16\n",
      "17    17\n",
      "18    18\n",
      "19    19\n",
      "20    20\n",
      "21    21\n",
      "22    22\n",
      "23    23\n",
      "24    24\n",
      "25    25\n",
      "dtype: int32\n",
      "mydict:\n",
      " a     0\n",
      "b     1\n",
      "c     2\n",
      "e     3\n",
      "d     4\n",
      "f     5\n",
      "g     6\n",
      "h     7\n",
      "i     8\n",
      "j     9\n",
      "k    10\n",
      "l    11\n",
      "m    12\n",
      "n    13\n",
      "o    14\n",
      "p    15\n",
      "q    16\n",
      "r    17\n",
      "s    18\n",
      "t    19\n",
      "u    20\n",
      "v    21\n",
      "w    22\n",
      "x    23\n",
      "y    24\n",
      "z    25\n",
      "dtype: int32\n"
     ]
    }
   ],
   "source": [
    "import pandas as pd\n",
    "import numpy as np\n",
    "\n",
    "mylist = list('abcedfghijklmnopqrstuvwxyz')\n",
    "myarr = np.arange(26)\n",
    "mydict = dict(zip(mylist, myarr))\n",
    "\n",
    "print('mylist:\\n', pd.Series(mylist))\n",
    "print('myarr:\\n', pd.Series(myarr))\n",
    "print('mydict:\\n', pd.Series(mydict))"
   ]
  },
  {
   "cell_type": "markdown",
   "id": "a328caa4-e171-44d6-9048-87c97eb2bfc9",
   "metadata": {
    "jp-MarkdownHeadingCollapsed": true
   },
   "source": [
    "#### Упражнение № 2\n",
    "Преобразуйте `ser` в датафрейм с его индексом в качестве еще одного столбца датафрейма."
   ]
  },
  {
   "cell_type": "code",
   "execution_count": 2,
   "id": "ca048856-41c9-4f96-b268-12c7a74bb2b5",
   "metadata": {},
   "outputs": [
    {
     "name": "stdout",
     "output_type": "stream",
     "text": [
      "   index   0\n",
      "0      a   0\n",
      "1      b   1\n",
      "2      c   2\n",
      "3      e   3\n",
      "4      d   4\n",
      "5      f   5\n",
      "6      g   6\n",
      "7      h   7\n",
      "8      i   8\n",
      "9      j   9\n",
      "10     k  10\n",
      "11     l  11\n",
      "12     m  12\n",
      "13     n  13\n",
      "14     o  14\n",
      "15     p  15\n",
      "16     q  16\n",
      "17     r  17\n",
      "18     s  18\n",
      "19     t  19\n",
      "20     u  20\n",
      "21     v  21\n",
      "22     w  22\n",
      "23     x  23\n",
      "24     y  24\n",
      "25     z  25\n"
     ]
    }
   ],
   "source": [
    "import pandas as pd\n",
    "import numpy as np\n",
    "\n",
    "mylist = list('abcedfghijklmnopqrstuvwxyz')\n",
    "myarr = np.arange(26)\n",
    "mydict = dict(zip(mylist, myarr))\n",
    "ser = pd.Series(mydict)\n",
    "\n",
    "df = pd.DataFrame(ser)\n",
    "print(df.reset_index())"
   ]
  },
  {
   "cell_type": "markdown",
   "id": "b5cc2305-9387-4e7e-991e-849a8d64184d",
   "metadata": {
    "jp-MarkdownHeadingCollapsed": true
   },
   "source": [
    "#### Упражнение № 3\n",
    "Объедините ser1 и ser2, чтобы сформировать датафрейм."
   ]
  },
  {
   "cell_type": "code",
   "execution_count": 3,
   "id": "a43a40f5-4123-4419-98a2-71ef08535eb4",
   "metadata": {},
   "outputs": [
    {
     "name": "stdout",
     "output_type": "stream",
     "text": [
      "   ser1  ser2\n",
      "0     a     0\n",
      "1     b     1\n",
      "2     c     2\n",
      "3     e     3\n",
      "4     d     4\n",
      "5     f     5\n",
      "6     g     6\n",
      "7     h     7\n",
      "8     i     8\n",
      "9     j     9\n",
      "10    k    10\n",
      "11    l    11\n",
      "12    m    12\n",
      "13    n    13\n",
      "14    o    14\n",
      "15    p    15\n",
      "16    q    16\n",
      "17    r    17\n",
      "18    s    18\n",
      "19    t    19\n",
      "20    u    20\n",
      "21    v    21\n",
      "22    w    22\n",
      "23    x    23\n",
      "24    y    24\n",
      "25    z    25\n"
     ]
    }
   ],
   "source": [
    "import pandas as pd\n",
    "import numpy as np\n",
    "\n",
    "mylist = list('abcedfghijklmnopqrstuvwxyz')\n",
    "myarr = np.arange(26)\n",
    "mydict = dict(zip(mylist, myarr))\n",
    "\n",
    "ser1 = pd.Series(mylist)\n",
    "ser2 = pd.Series(myarr)\n",
    "print(pd.DataFrame({'ser1': ser1, 'ser2': ser2}))"
   ]
  },
  {
   "cell_type": "markdown",
   "id": "da13a555-c716-4af0-976f-ca6e3f2a2111",
   "metadata": {
    "jp-MarkdownHeadingCollapsed": true
   },
   "source": [
    "#### Упражнение № 4\n",
    "Добавьте имя ряда  `ser`, назвав его `latin_letters`."
   ]
  },
  {
   "cell_type": "code",
   "execution_count": 4,
   "id": "2cdd5a5c-7c5d-473d-9e30-90102b347574",
   "metadata": {},
   "outputs": [
    {
     "name": "stdout",
     "output_type": "stream",
     "text": [
      "0     a\n",
      "1     b\n",
      "2     c\n",
      "3     e\n",
      "4     d\n",
      "5     f\n",
      "6     g\n",
      "7     h\n",
      "8     i\n",
      "9     j\n",
      "10    k\n",
      "11    l\n",
      "12    m\n",
      "13    n\n",
      "14    o\n",
      "15    p\n",
      "16    q\n",
      "17    r\n",
      "18    s\n",
      "19    t\n",
      "20    u\n",
      "21    v\n",
      "22    w\n",
      "23    x\n",
      "24    y\n",
      "25    z\n",
      "Name: latin_letters, dtype: object\n"
     ]
    }
   ],
   "source": [
    "import pandas as pd\n",
    "import numpy as np\n",
    "\n",
    "ser = pd.Series(list('abcedfghijklmnopqrstuvwxyz'), name='latin_letters')\n",
    "print(ser)"
   ]
  },
  {
   "cell_type": "markdown",
   "id": "2bf31d79-4ec4-457c-b967-e8ed586f41b0",
   "metadata": {
    "jp-MarkdownHeadingCollapsed": true
   },
   "source": [
    "#### Упражнение № 5\n",
    "Из `ser1` удалите элементы, присутствующие в `ser2`."
   ]
  },
  {
   "cell_type": "code",
   "execution_count": 5,
   "id": "6f9c8be7-de2b-48df-a596-3db697fa565c",
   "metadata": {},
   "outputs": [
    {
     "name": "stdout",
     "output_type": "stream",
     "text": [
      "0    1\n",
      "1    2\n",
      "2    3\n",
      "dtype: int64\n"
     ]
    }
   ],
   "source": [
    "import pandas as pd\n",
    "\n",
    "ser1 = pd.Series([1, 2, 3, 4, 5])\n",
    "ser2 = pd.Series([4, 5, 6, 7, 8])\n",
    "\n",
    "ser1 = ser1[~ser1.isin(ser2)]\n",
    "print(ser1)"
   ]
  },
  {
   "cell_type": "markdown",
   "id": "2dcfa900-3239-4dec-8840-4cc4ee90b6ba",
   "metadata": {
    "jp-MarkdownHeadingCollapsed": true
   },
   "source": [
    "#### Упражнение № 6\n",
    "Получить все элементы `ser1` и `ser2`, которые не являются общими для обоих рядов."
   ]
  },
  {
   "cell_type": "code",
   "execution_count": 6,
   "id": "ea642900-3298-4c08-be02-19f97c3ffeb0",
   "metadata": {},
   "outputs": [
    {
     "name": "stdout",
     "output_type": "stream",
     "text": [
      "0    1\n",
      "1    2\n",
      "2    3\n",
      "2    6\n",
      "3    7\n",
      "4    8\n",
      "dtype: int64\n"
     ]
    }
   ],
   "source": [
    "import pandas as pd\n",
    "\n",
    "ser1 = pd.Series([1, 2, 3, 4, 5])\n",
    "ser2 = pd.Series([4, 5, 6, 7, 8])\n",
    "\n",
    "ser1_without_ser2 = ser1[~ser1.isin(ser2)]\n",
    "ser2_without_ser1 = ser2[~ser2.isin(ser1)]\n",
    "\n",
    "print(pd.concat([ser1_without_ser2, ser2_without_ser1]))"
   ]
  },
  {
   "cell_type": "markdown",
   "id": "3d444344-5463-46f7-b173-328a1a30b0b7",
   "metadata": {
    "jp-MarkdownHeadingCollapsed": true
   },
   "source": [
    "#### Упражнение № 7\n",
    "Вычислите минимальное значение, 25-й процентиль, медиану, 75-й процентиль и максимальное значение `ser`."
   ]
  },
  {
   "cell_type": "code",
   "execution_count": 7,
   "id": "d007227f-b0a2-4c46-8cae-f8c1725c4ac2",
   "metadata": {},
   "outputs": [
    {
     "name": "stdout",
     "output_type": "stream",
     "text": [
      "Минимальное значение: 4.905931921872496\n",
      "25-й процентиль: 8.365777149335319\n",
      "75-й процентиль: 12.817610168955047\n",
      "Максимальное значение: 20.569948041476646\n"
     ]
    }
   ],
   "source": [
    "ser = pd.Series(np.random.normal(10, 5, 25))\n",
    "\n",
    "print(f'Минимальное значение: {ser.min()}')\n",
    "print(f'25-й процентиль: {ser.quantile(.25)}')\n",
    "print(f'75-й процентиль: {ser.quantile(.75)}')\n",
    "print(f'Максимальное значение: {ser.max()}')"
   ]
  },
  {
   "cell_type": "markdown",
   "id": "7a98aeb4-1664-4790-b23e-d1acc87fd768",
   "metadata": {
    "jp-MarkdownHeadingCollapsed": true
   },
   "source": [
    "#### Упражнение № 8\n",
    "Вычислите частоту встречаемости каждого уникального значения `ser`."
   ]
  },
  {
   "cell_type": "code",
   "execution_count": 8,
   "id": "8ec0d8d2-b0b0-48e9-970c-a8f75254d4f4",
   "metadata": {},
   "outputs": [
    {
     "name": "stdout",
     "output_type": "stream",
     "text": [
      "f    7\n",
      "h    6\n",
      "b    5\n",
      "d    4\n",
      "e    3\n",
      "g    2\n",
      "c    2\n",
      "a    1\n",
      "Name: count, dtype: int64\n"
     ]
    }
   ],
   "source": [
    "ser = pd.Series(np.take(list('abcdefgh'), np.random.randint(8, size=30)))\n",
    "print(ser.value_counts())"
   ]
  },
  {
   "cell_type": "markdown",
   "id": "c4fd5712-b03e-4299-936e-4410a8a3f45f",
   "metadata": {
    "jp-MarkdownHeadingCollapsed": true
   },
   "source": [
    "#### Упражнение № 9\n",
    "Из `ser` оставить 2 наиболее часто встречающихся элемента без изменений, а все остальные заменить на `Прочее`."
   ]
  },
  {
   "cell_type": "code",
   "execution_count": 9,
   "id": "c0148ee5-3037-4ed9-81e5-043a9b851b08",
   "metadata": {},
   "outputs": [
    {
     "name": "stdout",
     "output_type": "stream",
     "text": [
      "0     1\n",
      "1     2\n",
      "2     4\n",
      "3     2\n",
      "4     4\n",
      "5     2\n",
      "6     3\n",
      "7     3\n",
      "8     2\n",
      "9     2\n",
      "10    4\n",
      "11    1\n",
      "dtype: int32\n",
      "0     Прочее\n",
      "1          2\n",
      "2          4\n",
      "3          2\n",
      "4          4\n",
      "5          2\n",
      "6     Прочее\n",
      "7     Прочее\n",
      "8          2\n",
      "9          2\n",
      "10         4\n",
      "11    Прочее\n",
      "dtype: object\n"
     ]
    },
    {
     "name": "stderr",
     "output_type": "stream",
     "text": [
      "C:\\Users\\user\\AppData\\Local\\Temp\\ipykernel_12052\\3317662493.py:6: FutureWarning: Setting an item of incompatible dtype is deprecated and will raise in a future error of pandas. Value 'Прочее' has dtype incompatible with int32, please explicitly cast to a compatible dtype first.\n",
      "  ser[~ser.isin(top_two_freq_ints)] = 'Прочее'\n"
     ]
    }
   ],
   "source": [
    "np.random.RandomState(100)\n",
    "ser = pd.Series(np.random.randint(1, 5, [12]))\n",
    "print(ser)\n",
    "\n",
    "top_two_freq_ints = ser.value_counts().index[:2]\n",
    "ser[~ser.isin(top_two_freq_ints)] = 'Прочее'\n",
    "\n",
    "print(ser)"
   ]
  },
  {
   "cell_type": "markdown",
   "id": "d2998883-9fb2-4ebd-8b6b-da6189951afb",
   "metadata": {
    "jp-MarkdownHeadingCollapsed": true
   },
   "source": [
    "#### Упражнение № 10\r\n",
    "\r\n",
    "Разбейте ряд `ser` на 10 равных децилей и замените значения на название децил.\r\n"
   ]
  },
  {
   "cell_type": "code",
   "execution_count": 10,
   "id": "812d135d-e898-40c5-a17b-0da8704a2c27",
   "metadata": {},
   "outputs": [
    {
     "name": "stdout",
     "output_type": "stream",
     "text": [
      "0     0.772365\n",
      "1     0.061718\n",
      "2     0.771065\n",
      "3     0.784734\n",
      "4     0.082628\n",
      "5     0.982146\n",
      "6     0.558619\n",
      "7     0.454546\n",
      "8     0.624457\n",
      "9     0.409010\n",
      "10    0.145068\n",
      "11    0.656468\n",
      "12    0.366283\n",
      "13    0.396335\n",
      "14    0.336585\n",
      "15    0.851949\n",
      "16    0.674631\n",
      "17    0.390047\n",
      "18    0.499817\n",
      "19    0.345356\n",
      "dtype: float64\n",
      "0      9th\n",
      "1      1th\n",
      "2      8th\n",
      "3      9th\n",
      "4      1th\n",
      "5     10th\n",
      "6      6th\n",
      "7      5th\n",
      "8      7th\n",
      "9      5th\n",
      "10     2th\n",
      "11     7th\n",
      "12     3th\n",
      "13     4th\n",
      "14     2th\n",
      "15    10th\n",
      "16     8th\n",
      "17     4th\n",
      "18     6th\n",
      "19     3th\n",
      "dtype: category\n",
      "Categories (10, object): ['1th' < '2th' < '3th' < '4th' ... '7th' < '8th' < '9th' < '10th']\n"
     ]
    }
   ],
   "source": [
    "ser = pd.Series(np.random.random(20))\n",
    "print(ser)\n",
    "print(pd.qcut(ser, 10, labels=[f'{i}th' for i in range(1, 11)]))"
   ]
  },
  {
   "cell_type": "markdown",
   "id": "bd559921-a415-40e4-baad-8525df0548f1",
   "metadata": {
    "jp-MarkdownHeadingCollapsed": true
   },
   "source": [
    "#### Упражнение № 11\r\n",
    "\r\n",
    "Переформируйте ряд `ser` в датафрейм с 7 строками и 5 столбцаи\r\n"
   ]
  },
  {
   "cell_type": "code",
   "execution_count": 11,
   "id": "b53cfd30-defe-4bb4-9cff-0037a6cc752b",
   "metadata": {},
   "outputs": [
    {
     "name": "stdout",
     "output_type": "stream",
     "text": [
      "0     6\n",
      "1     9\n",
      "2     5\n",
      "3     4\n",
      "4     9\n",
      "5     4\n",
      "6     2\n",
      "7     2\n",
      "8     5\n",
      "9     7\n",
      "10    7\n",
      "11    4\n",
      "12    8\n",
      "13    2\n",
      "14    8\n",
      "15    3\n",
      "16    4\n",
      "17    7\n",
      "18    9\n",
      "19    9\n",
      "20    5\n",
      "21    4\n",
      "22    1\n",
      "23    5\n",
      "24    7\n",
      "25    1\n",
      "26    4\n",
      "27    5\n",
      "28    4\n",
      "29    8\n",
      "30    8\n",
      "31    9\n",
      "32    3\n",
      "33    1\n",
      "34    9\n",
      "dtype: int32\n",
      "   0  1  2  3  4\n",
      "0  6  9  5  4  9\n",
      "1  4  2  2  5  7\n",
      "2  7  4  8  2  8\n",
      "3  3  4  7  9  9\n",
      "4  5  4  1  5  7\n",
      "5  1  4  5  4  8\n",
      "6  8  9  3  1  9\n"
     ]
    }
   ],
   "source": [
    "ser = pd.Series(np.random.randint(1, 10, 35))\n",
    "df = pd.DataFrame(ser.values.reshape(7, 5))\n",
    "print(ser)\n",
    "print(df)"
   ]
  },
  {
   "cell_type": "markdown",
   "id": "008cbb8e-80c2-4746-91d8-18dd234ce2ed",
   "metadata": {
    "jp-MarkdownHeadingCollapsed": true
   },
   "source": [
    "#### Упражнение № 12\r\n",
    "\r\n",
    "Найти позиции чисел, кратных 3, из ряда `ser.\r\n"
   ]
  },
  {
   "cell_type": "code",
   "execution_count": 12,
   "id": "37af9e02-ab16-4a24-bc99-6905c0c31814",
   "metadata": {},
   "outputs": [
    {
     "name": "stdout",
     "output_type": "stream",
     "text": [
      "0    6\n",
      "1    1\n",
      "2    4\n",
      "3    3\n",
      "4    9\n",
      "5    4\n",
      "6    9\n",
      "dtype: int32\n",
      "Позиции чисел, кратных 3: Index([0, 3, 4, 6], dtype='int64')\n"
     ]
    }
   ],
   "source": [
    "ser = pd.Series(np.random.randint(1, 10, 7))\n",
    "print(ser)\n",
    "print('Позиции чисел, кратных 3:', ser[ser % 3 == 0].index)"
   ]
  },
  {
   "cell_type": "markdown",
   "id": "0fdfb133-bb94-46ab-b5ed-d28af9d84f5c",
   "metadata": {
    "jp-MarkdownHeadingCollapsed": true
   },
   "source": [
    "#### Упражнение № 13\r\n",
    "\r\n",
    "Из `ser` извлечь элементы, находящиеся на позициях в списке `pos.\r\n"
   ]
  },
  {
   "cell_type": "code",
   "execution_count": 13,
   "id": "d8e6b7bf-c97f-4ee3-a31b-f81c9a64e6b2",
   "metadata": {},
   "outputs": [
    {
     "name": "stdout",
     "output_type": "stream",
     "text": [
      "0     a\n",
      "1     b\n",
      "2     c\n",
      "3     d\n",
      "4     e\n",
      "5     f\n",
      "6     g\n",
      "7     h\n",
      "8     i\n",
      "9     j\n",
      "10    k\n",
      "11    l\n",
      "12    m\n",
      "13    n\n",
      "14    o\n",
      "15    p\n",
      "16    q\n",
      "17    r\n",
      "18    s\n",
      "19    t\n",
      "20    u\n",
      "21    v\n",
      "22    w\n",
      "23    x\n",
      "24    y\n",
      "25    z\n",
      "dtype: object\n",
      "1     b\n",
      "2     c\n",
      "3     d\n",
      "5     f\n",
      "6     g\n",
      "7     h\n",
      "9     j\n",
      "10    k\n",
      "11    l\n",
      "12    m\n",
      "13    n\n",
      "15    p\n",
      "16    q\n",
      "17    r\n",
      "18    s\n",
      "19    t\n",
      "21    v\n",
      "22    w\n",
      "23    x\n",
      "24    y\n",
      "25    z\n",
      "dtype: object\n"
     ]
    }
   ],
   "source": [
    "ser = pd.Series(list('abcdefghijklmnopqrstuvwxyz'))\n",
    "pos = [0, 4, 8, 14, 20]\n",
    "print(ser)\n",
    "print(ser[~ser.index.isin(pos)])"
   ]
  },
  {
   "cell_type": "markdown",
   "id": "934ed41a-f115-4c9e-a7b6-ee155b5be76d",
   "metadata": {
    "jp-MarkdownHeadingCollapsed": true
   },
   "source": [
    "#### Упражнение № 14\r\n",
    "\r\n",
    "Объедините `ser1` и `ser2` по вертикали и горизонтали (чтобы сформировать датафрейм.\r\n"
   ]
  },
  {
   "cell_type": "code",
   "execution_count": 14,
   "id": "15dd83ae-12fe-45c8-b3e6-246d3b84602d",
   "metadata": {},
   "outputs": [
    {
     "name": "stdout",
     "output_type": "stream",
     "text": [
      "Объединение по вертикали:\n",
      "   0  1\n",
      "0  0  a\n",
      "1  1  b\n",
      "2  2  c\n",
      "3  3  d\n",
      "4  4  e\n",
      "Объединение по горизонали:\n",
      "0    0\n",
      "1    1\n",
      "2    2\n",
      "3    3\n",
      "4    4\n",
      "0    a\n",
      "1    b\n",
      "2    c\n",
      "3    d\n",
      "4    e\n",
      "dtype: object\n"
     ]
    }
   ],
   "source": [
    "ser1 = pd.Series(range(5))\n",
    "ser2 = pd.Series(list('abcde'))\n",
    "\n",
    "df_ver = pd.concat([ser1, ser2], axis=1)\n",
    "print(f'Объединение по вертикали:\\n{df_ver}')\n",
    "\n",
    "df_hor = pd.concat([ser1, ser2], axis=0)\n",
    "print(f'Объединение по горизонали:\\n{df_hor}')"
   ]
  },
  {
   "cell_type": "markdown",
   "id": "5f1bcda4-41e2-445d-af5c-ae0dcf6b2cd1",
   "metadata": {
    "jp-MarkdownHeadingCollapsed": true
   },
   "source": [
    "#### Упражнение № 15\r\n",
    "\r\n",
    "Получите позиции элементов `ser2` в `ser1` в виде спис..\r\n"
   ]
  },
  {
   "cell_type": "code",
   "execution_count": 15,
   "id": "936242ba-c4ca-47cb-a8ee-21716a765ec8",
   "metadata": {},
   "outputs": [
    {
     "name": "stdout",
     "output_type": "stream",
     "text": [
      "[0, 4, 5, 8]\n"
     ]
    }
   ],
   "source": [
    "ser1 = pd.Series([10, 9, 6, 5, 3, 1, 12, 8, 13])\n",
    "ser2 = pd.Series([1, 3, 10, 13])\n",
    "\n",
    "print(ser1[ser1.isin(ser2)].index.tolist())"
   ]
  },
  {
   "cell_type": "markdown",
   "id": "06952078-716a-4341-9503-5f49c0ce0d02",
   "metadata": {
    "jp-MarkdownHeadingCollapsed": true
   },
   "source": [
    "#### Упражнение № 16\r\n",
    "\r\n",
    "Вычислить среднеквадратическую ошибку рядов `truth` и `pred\n",
    ".\r\n"
   ]
  },
  {
   "cell_type": "code",
   "execution_count": 16,
   "id": "43a12969-a879-417d-a9a7-4c70e0dcff22",
   "metadata": {},
   "outputs": [
    {
     "name": "stdout",
     "output_type": "stream",
     "text": [
      "0    0\n",
      "1    1\n",
      "2    2\n",
      "3    3\n",
      "4    4\n",
      "5    5\n",
      "6    6\n",
      "7    7\n",
      "8    8\n",
      "9    9\n",
      "dtype: int64\n",
      "0    0.454004\n",
      "1    1.157122\n",
      "2    2.574680\n",
      "3    3.807922\n",
      "4    4.515135\n",
      "5    5.074044\n",
      "6    6.377109\n",
      "7    7.864741\n",
      "8    8.639328\n",
      "9    9.180096\n",
      "dtype: float64\n",
      "Среднеквадратическая ошибка: 0.2815810782480717\n"
     ]
    }
   ],
   "source": [
    "truth = pd.Series(range(10))\n",
    "pred = pd.Series(range(10)) + np.random.random(10)\n",
    "print(truth)\n",
    "print(pred)\n",
    "mse = np.mean((truth - pred)**2)\n",
    "print(f'Среднеквадратическая ошибка: {mse}')"
   ]
  },
  {
   "cell_type": "markdown",
   "id": "682a6326-1858-4474-87cb-c366261420ab",
   "metadata": {
    "jp-MarkdownHeadingCollapsed": true
   },
   "source": [
    "#### Упражнение № 17\r\n",
    "\r\n",
    "В каждом слове `ser` поставьте первый символ каждого слова в верхний регистр.\r\n"
   ]
  },
  {
   "cell_type": "code",
   "execution_count": 17,
   "id": "b323e2af-3025-4282-869f-2776fed10a74",
   "metadata": {},
   "outputs": [
    {
     "name": "stdout",
     "output_type": "stream",
     "text": [
      "0     How\n",
      "1      To\n",
      "2    Kick\n",
      "3    Ass?\n",
      "dtype: object\n"
     ]
    }
   ],
   "source": [
    "ser = pd.Series(['how', 'to', 'kick', 'ass?'])\n",
    "print(ser.str.title())"
   ]
  },
  {
   "cell_type": "markdown",
   "id": "bf4808ee-cef5-4baf-bee5-f4c0f850bd92",
   "metadata": {
    "jp-MarkdownHeadingCollapsed": true
   },
   "source": [
    "#### Упражнение № 18\r\n",
    "\r\n",
    "В каждом слове `ser` посчитайте число символов.\r\n"
   ]
  },
  {
   "cell_type": "code",
   "execution_count": 18,
   "id": "e81f1568-8e2c-424d-9273-44b4f50e4e53",
   "metadata": {},
   "outputs": [
    {
     "name": "stdout",
     "output_type": "stream",
     "text": [
      "0    3\n",
      "1    2\n",
      "2    4\n",
      "3    4\n",
      "dtype: int64\n"
     ]
    }
   ],
   "source": [
    "ser = pd.Series(['how', 'to', 'kick', 'ass?'])\n",
    "print(ser.str.len())"
   ]
  },
  {
   "cell_type": "markdown",
   "id": "a32c4c92-d892-43da-a635-928ac4674cd9",
   "metadata": {
    "jp-MarkdownHeadingCollapsed": true
   },
   "source": [
    "#### Упражнение № 19\r\n",
    "\r\n",
    "Вычислите разность разностей между последовательно идущими числами в `ser`.\r\n"
   ]
  },
  {
   "cell_type": "code",
   "execution_count": 19,
   "id": "c4c0ca06-59df-4899-b931-c737cd2ee860",
   "metadata": {},
   "outputs": [
    {
     "name": "stdout",
     "output_type": "stream",
     "text": [
      "0    NaN\n",
      "1    2.0\n",
      "2    3.0\n",
      "3    4.0\n",
      "4    5.0\n",
      "5    6.0\n",
      "6    6.0\n",
      "7    8.0\n",
      "dtype: float64\n",
      "0    NaN\n",
      "1    NaN\n",
      "2    1.0\n",
      "3    1.0\n",
      "4    1.0\n",
      "5    1.0\n",
      "6    0.0\n",
      "7    2.0\n",
      "dtype: float64\n"
     ]
    }
   ],
   "source": [
    "ser = pd.Series([1, 3, 6, 10, 15, 21, 27, 35])\n",
    "diff = ser.diff()\n",
    "print(diff)\n",
    "diff_diff = diff.diff()\n",
    "print(diff_diff)"
   ]
  },
  {
   "cell_type": "markdown",
   "id": "26f80c72-971e-48de-b9f0-ceadda4537c5",
   "metadata": {
    "jp-MarkdownHeadingCollapsed": true
   },
   "source": [
    "#### Упражнение № 20\r\n",
    "\r\n",
    "Преобразуйте строковое представление дат в `datetime64`.\r\n"
   ]
  },
  {
   "cell_type": "code",
   "execution_count": 20,
   "id": "1ac001cb-9f03-4bba-8e14-38db959f7260",
   "metadata": {},
   "outputs": [
    {
     "name": "stdout",
     "output_type": "stream",
     "text": [
      "0   2010-01-01 00:00:00\n",
      "1   2011-02-02 00:00:00\n",
      "2   2012-03-03 00:00:00\n",
      "3   2013-04-04 00:00:00\n",
      "4   2014-05-05 00:00:00\n",
      "5   2015-06-06 12:20:00\n",
      "dtype: datetime64[ns]\n"
     ]
    }
   ],
   "source": [
    "ser = pd.Series(['01 Jan 2010', '02-02-2011', '20120303', '2013/04/04', '2014-05-05', '2015-06-06T12:20'])\n",
    "dti = pd.Series([pd.to_datetime(date) for date in ser])\n",
    "print(dti)"
   ]
  },
  {
   "cell_type": "markdown",
   "id": "f8f92e0a-cacb-4efc-91a4-625e95550e71",
   "metadata": {
    "jp-MarkdownHeadingCollapsed": true
   },
   "source": [
    "#### Упражнение № 21\r\n",
    "\r\n",
    "Получите из `ser` день месяца, номер недели, день года и день недели.\r\n"
   ]
  },
  {
   "cell_type": "code",
   "execution_count": 21,
   "id": "27a1a204-bd13-4f34-9c0e-54069b73f969",
   "metadata": {},
   "outputs": [
    {
     "name": "stdout",
     "output_type": "stream",
     "text": [
      "Date: [1, 2, 3, 4, 5, 6]\n",
      "Week number: [53, 5, 9, 14, 19, 23]\n",
      "Day num of year: [1, 33, 63, 94, 125, 157]\n",
      "Day of week: ['Friday', 'Wednesday', 'Saturday', 'Thursday', 'Monday', 'Saturday']\n"
     ]
    }
   ],
   "source": [
    "ser = pd.Series(['01 Jan 2010', '02-02-2011', '20120303', '2013/04/04', '2014-05-05', '2015-06-06T12:20'])\n",
    "dti = pd.Series([pd.to_datetime(date) for date in ser])\n",
    "\n",
    "print('Date:', dti.dt.day.tolist())\n",
    "print('Week number:', dti.dt.isocalendar().week.tolist())\n",
    "print('Day num of year:', dti.dt.dayofyear.tolist())\n",
    "print('Day of week:', dti.dt.day_name().tolist())"
   ]
  },
  {
   "cell_type": "markdown",
   "id": "a3516a9b-f49c-4827-b262-2a2a1cdcb449",
   "metadata": {
    "jp-MarkdownHeadingCollapsed": true
   },
   "source": [
    "#### Упражнение № 22\r\n",
    "\r\n",
    "Замените элементы `ser` на даты, начинающиеся с 4-го числа соответствующего месяца.\r\n"
   ]
  },
  {
   "cell_type": "code",
   "execution_count": 22,
   "id": "4d57014f-94e3-4d69-bbbd-02a97c94e257",
   "metadata": {},
   "outputs": [
    {
     "name": "stdout",
     "output_type": "stream",
     "text": [
      "0   2010-01-04\n",
      "1   2011-02-04\n",
      "2   2012-03-04\n",
      "dtype: datetime64[ns]\n"
     ]
    }
   ],
   "source": [
    "ser = pd.Series(['Jan 2010', 'Feb 2011', 'Mar 2012'])\n",
    "dti = pd.Series([pd.to_datetime(date).replace(day=4) for date in ser])\n",
    "print(dti)"
   ]
  },
  {
   "cell_type": "markdown",
   "id": "707f2e93-dd32-411b-b9b7-da89f7bfa2ba",
   "metadata": {
    "jp-MarkdownHeadingCollapsed": true
   },
   "source": [
    "#### Упражнение № 23\r\n",
    "\r\n",
    "Из `ser` извлеките слова, содержащие не менее 2 гласных букв.\r\n"
   ]
  },
  {
   "cell_type": "code",
   "execution_count": 23,
   "id": "19efd860-9d6d-4ff9-934e-0c8890c94d23",
   "metadata": {},
   "outputs": [
    {
     "name": "stdout",
     "output_type": "stream",
     "text": [
      "0     Apple\n",
      "1    Orange\n",
      "3    Python\n",
      "4     Money\n",
      "dtype: object\n"
     ]
    }
   ],
   "source": [
    "ser = pd.Series(['Apple', 'Orange', 'Plan', 'Python', 'Money'])\n",
    "\n",
    "def count_vowels(word):\n",
    "    return sum(1 for letter in word if letter.lower() in 'aeiouy')\n",
    "\n",
    "result = ser[ser.apply(count_vowels) >= 2]\n",
    "\n",
    "print(result)"
   ]
  },
  {
   "cell_type": "markdown",
   "id": "a2291bea-13df-4e85-99fc-8ff1191b5cfd",
   "metadata": {
    "jp-MarkdownHeadingCollapsed": true
   },
   "source": [
    "#### Упражнение № 24\r\n",
    "\r\n",
    "Извлеките корректные адреса электронной почты из ряда `emails`. Шаблон регулярного выражения для корректных адресов электронной почты приведен в качестве образца.\r\n"
   ]
  },
  {
   "cell_type": "code",
   "execution_count": 24,
   "id": "ccce7a45-7832-4856-90a2-0fa64609ad9c",
   "metadata": {},
   "outputs": [
    {
     "name": "stdout",
     "output_type": "stream",
     "text": [
      "1    rameses@egypt.com\n",
      "2            matt@t.co\n",
      "3    narendra@modi.com\n",
      "dtype: object\n"
     ]
    }
   ],
   "source": [
    "emails = pd.Series(['buying books at amazom.com', 'rameses@egypt.com', 'matt@t.co', 'narendra@modi.com'])\n",
    "pattern ='[A-Za-z0-9._%+-]+@[A-Za-z0-9.-]+\\\\.[A-Za-z]{2,4}'\n",
    "print(emails[emails.str.contains(pattern)])"
   ]
  },
  {
   "cell_type": "markdown",
   "id": "e1d90dd2-9bee-4166-9c90-8865f13d8566",
   "metadata": {
    "jp-MarkdownHeadingCollapsed": true
   },
   "source": [
    "#### Упражнение № 25\r\n",
    "\r\n",
    "Вычислить среднее значение веса в `weights` для каждого фрукта из `fruit`.\r\n"
   ]
  },
  {
   "cell_type": "code",
   "execution_count": 25,
   "id": "5b6e6314-6bc4-4971-bf88-b748e5bb0289",
   "metadata": {},
   "outputs": [
    {
     "name": "stdout",
     "output_type": "stream",
     "text": [
      "fruit\n",
      "apple     5.6\n",
      "banana    7.0\n",
      "carrot    3.0\n",
      "Name: weight, dtype: float64\n"
     ]
    }
   ],
   "source": [
    "fruits = pd.Series(np.random.choice(['apple', 'banana', 'carrot'], 10))\n",
    "weights = pd.Series(np.linspace(1, 10, 10))\n",
    "df = pd.DataFrame({'fruit': fruits, 'weight': weights})\n",
    "print(df.groupby('fruit')['weight'].mean())"
   ]
  },
  {
   "cell_type": "markdown",
   "id": "800e0f3d-d7fd-4dec-8360-53b3cc112cc9",
   "metadata": {
    "jp-MarkdownHeadingCollapsed": true
   },
   "source": [
    "### Упражнение № 26\n",
    "Вычислить [евклидово расстояние](https://en.wikipedia.org/wiki/Euclidean_distance) между векторами $p$ и $q$, не используя встроенную формулу."
   ]
  },
  {
   "cell_type": "code",
   "execution_count": 26,
   "id": "5e65becc-fd50-4700-93f2-b078f96927bb",
   "metadata": {},
   "outputs": [
    {
     "name": "stdout",
     "output_type": "stream",
     "text": [
      "18.16590212458495\n"
     ]
    }
   ],
   "source": [
    "p = pd.Series([1, 2, 3, 4, 5, 6, 7, 8, 9, 10])\n",
    "q = pd.Series([10, 9, 8, 7, 6, 5, 4, 3, 2, 1])\n",
    "\n",
    "euclidean_distance = ((p - q) ** 2).sum() ** 0.5\n",
    "print(euclidean_distance)"
   ]
  },
  {
   "cell_type": "markdown",
   "id": "5cf4861e-9342-46c5-9969-e0391ecafc27",
   "metadata": {
    "jp-MarkdownHeadingCollapsed": true
   },
   "source": [
    "### Упражнение № 27\n",
    "Получите позиции пиков (значений, окруженных с двух сторон меньшими значениями) в `ser`."
   ]
  },
  {
   "cell_type": "code",
   "execution_count": 27,
   "id": "867bc9ff-aeb2-47d5-8977-a6d00d679deb",
   "metadata": {},
   "outputs": [
    {
     "name": "stdout",
     "output_type": "stream",
     "text": [
      "[1 5 7]\n"
     ]
    }
   ],
   "source": [
    "from scipy.signal import find_peaks\n",
    "ser = pd.Series([2, 10, 3, 4, 9, 10, 2, 7, 3])\n",
    "peaks, _ = pd.Series(find_peaks(ser))\n",
    "print(peaks)"
   ]
  },
  {
   "cell_type": "markdown",
   "id": "8a59b0e6-ef62-4d87-aad4-ba25dae1431b",
   "metadata": {
    "jp-MarkdownHeadingCollapsed": true
   },
   "source": [
    "### Упражнение № 28\n",
    "Замените пробелы в `my_str` на наименее часто встречающийся символ."
   ]
  },
  {
   "cell_type": "code",
   "execution_count": 28,
   "id": "ede6776d-3fbc-456a-8e56-6066ae641844",
   "metadata": {},
   "outputs": [
    {
     "name": "stdout",
     "output_type": "stream",
     "text": [
      "dbccdebcabedcgade\n"
     ]
    }
   ],
   "source": [
    "from collections import Counter\n",
    "my_str = 'dbc deb abed gade'\n",
    "counts = Counter(my_str.replace(' ', ''))\n",
    "last_frequent_char = min(counts, key=counts.get)\n",
    "print(my_str.replace(' ', last_frequent_char))"
   ]
  },
  {
   "cell_type": "markdown",
   "id": "0036c607-9c4d-423b-84f2-36074aaedeba",
   "metadata": {
    "jp-MarkdownHeadingCollapsed": true
   },
   "source": [
    "### Упражнение № 29\n",
    "Создайте временной ряд, начинающийся с `2000-01-01`, содержащий 10 субботних дней после этого и имеющий в качестве значений случайные числа"
   ]
  },
  {
   "cell_type": "code",
   "execution_count": 29,
   "id": "27db6649-516a-4f9f-ba2a-bd79ffa19fa0",
   "metadata": {},
   "outputs": [
    {
     "name": "stdout",
     "output_type": "stream",
     "text": [
      "2000-01-01    4\n",
      "2000-01-08    6\n",
      "2000-01-15    7\n",
      "2000-01-22    1\n",
      "2000-01-29    3\n",
      "2000-02-05    1\n",
      "2000-02-12    5\n",
      "2000-02-19    9\n",
      "2000-02-26    3\n",
      "2000-03-04    8\n",
      "Freq: W-SAT, dtype: int32\n"
     ]
    }
   ],
   "source": [
    "dates = pd.date_range('2000-01-01', periods=10, freq='W-SAT')\n",
    "ser = pd.Series(np.random.randint(1, 10, 10), index=dates)\n",
    "print(ser)"
   ]
  },
  {
   "cell_type": "markdown",
   "id": "f36acddb-1db2-4b2e-a202-ecf687db0bb4",
   "metadata": {
    "jp-MarkdownHeadingCollapsed": true
   },
   "source": [
    "### Упражнение № 30\n",
    "В `ser` отсутствуют некоторые даты и значения. Сделайте так, чтобы все отсутствующие даты появились и заполнились значением из предыдущей даты."
   ]
  },
  {
   "cell_type": "code",
   "execution_count": 31,
   "id": "53c43bcb-ddf0-466f-b9a6-e4cdd47db28c",
   "metadata": {},
   "outputs": [
    {
     "name": "stdout",
     "output_type": "stream",
     "text": [
      "2000-01-01     1.0\n",
      "2000-01-02     1.0\n",
      "2000-01-03    10.0\n",
      "2000-01-04    10.0\n",
      "2000-01-05    10.0\n",
      "2000-01-06     3.0\n",
      "2000-01-07     3.0\n",
      "2000-01-08     NaN\n",
      "Freq: D, dtype: float64\n"
     ]
    }
   ],
   "source": [
    "ser = pd.Series([1,10,3,np.nan], index=pd.to_datetime(['2000-01-01', '2000-01-03', '2000-01-06', '2000-01-08']))\n",
    "print(ser.resample('D').ffill())"
   ]
  },
  {
   "cell_type": "markdown",
   "id": "ffa89743-9097-4854-9e29-4885dcf2fa05",
   "metadata": {
    "jp-MarkdownHeadingCollapsed": true
   },
   "source": [
    "### Упражнение № 31\n",
    "Вычислите автокорреляции для первых 10 лагов `ser`. Определите, какой из лагов имеет наибольшую корреляцию. (см. также [Модель авторегрессии и распределённого лага — Википедия](https://ru.wikipedia.org/wiki/%D0%9C%D0%BE%D0%B4%D0%B5%D0%BB%D1%8C_%D0%B0%D0%B2%D1%82%D0%BE%D1%80%D0%B5%D0%B3%D1%80%D0%B5%D1%81%D1%81%D0%B8%D0%B8_%D0%B8_%D1%80%D0%B0%D1%81%D0%BF%D1%80%D0%B5%D0%B4%D0%B5%D0%BB%D1%91%D0%BD%D0%BD%D0%BE%D0%B3%D0%BE_%D0%BB%D0%B0%D0%B3%D0%B0))"
   ]
  },
  {
   "cell_type": "code",
   "execution_count": 42,
   "id": "3a076230-2c25-4d4d-b27b-2f50df713e0a",
   "metadata": {},
   "outputs": [
    {
     "name": "stdout",
     "output_type": "stream",
     "text": [
      "0      0.661960\n",
      "1      3.845233\n",
      "2      5.146235\n",
      "3     -0.722808\n",
      "4     -5.870856\n",
      "5     -0.308616\n",
      "6     -1.554441\n",
      "7      5.319986\n",
      "8      8.100190\n",
      "9     -0.311733\n",
      "10    22.334020\n",
      "11     5.550219\n",
      "12    24.496327\n",
      "13    25.025926\n",
      "14    29.491658\n",
      "15    12.998383\n",
      "16    21.032812\n",
      "17    61.884659\n",
      "18    14.209333\n",
      "19    20.257244\n",
      "dtype: float64\n",
      "[0.3780379390784078, 0.41338657074957497, 0.6417981837574367, 0.5666009788180538, 0.4625583883167321, 0.14053305500724933, 0.5145333948709784, -0.23843337880773516, 0.16149935404079033, 0.058682603099068226]\n",
      "2\n"
     ]
    }
   ],
   "source": [
    "ser = pd.Series(np.arange(20) + np.random.normal(1, 10, 20))\n",
    "autocor = [ser.autocorr(i) for i in range(1, 11)]\n",
    "print(ser)\n",
    "print(autocor)\n",
    "print(np.argmax(np.abs(autocor)))"
   ]
  },
  {
   "cell_type": "markdown",
   "id": "5a93a631-ae88-4b00-91c2-c6e47eab8eb8",
   "metadata": {
    "jp-MarkdownHeadingCollapsed": true
   },
   "source": [
    "### Упражнение № 32\n",
    "Импортируйте каждую 50-ю строку набора данных [BostonHousing dataset](https://raw.githubusercontent.com/selva86/datasets/master/BostonHousing.csv) в виде датафрейма."
   ]
  },
  {
   "cell_type": "code",
   "execution_count": 52,
   "id": "9026be66-8df2-4b31-a943-1c7d563c0301",
   "metadata": {},
   "outputs": [
    {
     "name": "stdout",
     "output_type": "stream",
     "text": [
      "      crim  zn  indus  chas    nox     rm   age     dis  rad  tax  ptratio  \\\n",
      "0  0.21977   0   6.91     0  0.448  5.602  62.0  6.0877    3  233     17.9   \n",
      "1  0.06860   0   2.89     0  0.445  7.416  62.5  3.4952    2  276     18.0   \n",
      "2  2.73397   0  19.58     0  0.871  5.597  94.9  1.5257    5  403     14.7   \n",
      "3  0.03150  95   1.47     0  0.403  6.975  15.3  7.6534    3  402     17.0   \n",
      "4  0.19073  22   5.86     0  0.431  6.718  17.5  7.8265    7  330     19.1   \n",
      "5  0.05561  70   2.24     0  0.400  7.041  10.0  7.8278    5  358     14.8   \n",
      "6  0.02899  40   1.25     0  0.429  6.939  34.5  8.7921    1  335     19.7   \n",
      "7  9.91655   0  18.10     0  0.693  5.852  77.8  1.5004   24  666     20.2   \n",
      "8  7.52601   0  18.10     0  0.713  6.417  98.3  2.1850   24  666     20.2   \n",
      "9  0.17783   0   9.69     0  0.585  5.569  73.5  2.3999    6  391     19.2   \n",
      "\n",
      "        b  lstat  medv  \n",
      "0  396.90  16.20  19.4  \n",
      "1  396.90   6.19  33.2  \n",
      "2  351.85  21.45  15.4  \n",
      "3  396.90   4.56  34.9  \n",
      "4  393.74   6.56  26.2  \n",
      "5  371.58   4.74  29.0  \n",
      "6  389.85   5.89  26.6  \n",
      "7  338.16  29.97   6.3  \n",
      "8  304.21  19.31  13.0  \n",
      "9  395.77  15.10  17.5  \n"
     ]
    }
   ],
   "source": [
    "url = 'https://raw.githubusercontent.com/selva86/datasets/master/BostonHousing.csv'\n",
    "boston_housing_dataset = pd.read_csv(url, skiprows=lambda row: row % 50 != 0)\n",
    "print(boston_housing_dataset)"
   ]
  },
  {
   "cell_type": "markdown",
   "id": "a6342a22-dc9b-4e53-8320-928ae803ce3a",
   "metadata": {
    "jp-MarkdownHeadingCollapsed": true
   },
   "source": [
    "### Упражнение № 33\n",
    "Импортируйте набор данных [boston housing dataset](https://raw.githubusercontent.com/selva86/datasets/master/BostonHousing.csv), но при импорте измените столбец `'medv'` (*median house value*) так, чтобы значения < 25 стали `Low`, а > 25 - `High`."
   ]
  },
  {
   "cell_type": "code",
   "execution_count": 59,
   "id": "60d53112-39c7-441b-b679-d8f94705a32b",
   "metadata": {},
   "outputs": [
    {
     "name": "stdout",
     "output_type": "stream",
     "text": [
      "        crim    zn  indus  chas    nox     rm   age     dis  rad  tax  \\\n",
      "0    0.00632  18.0   2.31     0  0.538  6.575  65.2  4.0900    1  296   \n",
      "1    0.02731   0.0   7.07     0  0.469  6.421  78.9  4.9671    2  242   \n",
      "2    0.02729   0.0   7.07     0  0.469  7.185  61.1  4.9671    2  242   \n",
      "3    0.03237   0.0   2.18     0  0.458  6.998  45.8  6.0622    3  222   \n",
      "4    0.06905   0.0   2.18     0  0.458  7.147  54.2  6.0622    3  222   \n",
      "..       ...   ...    ...   ...    ...    ...   ...     ...  ...  ...   \n",
      "501  0.06263   0.0  11.93     0  0.573  6.593  69.1  2.4786    1  273   \n",
      "502  0.04527   0.0  11.93     0  0.573  6.120  76.7  2.2875    1  273   \n",
      "503  0.06076   0.0  11.93     0  0.573  6.976  91.0  2.1675    1  273   \n",
      "504  0.10959   0.0  11.93     0  0.573  6.794  89.3  2.3889    1  273   \n",
      "505  0.04741   0.0  11.93     0  0.573  6.030  80.8  2.5050    1  273   \n",
      "\n",
      "     ptratio       b  lstat  medv  \n",
      "0       15.3  396.90   4.98   Low  \n",
      "1       17.8  396.90   9.14   Low  \n",
      "2       17.8  392.83   4.03  High  \n",
      "3       18.7  394.63   2.94  High  \n",
      "4       18.7  396.90   5.33  High  \n",
      "..       ...     ...    ...   ...  \n",
      "501     21.0  391.99   9.67   Low  \n",
      "502     21.0  396.90   9.08   Low  \n",
      "503     21.0  396.90   5.64   Low  \n",
      "504     21.0  393.45   6.48   Low  \n",
      "505     21.0  396.90   7.88   Low  \n",
      "\n",
      "[506 rows x 14 columns]\n"
     ]
    }
   ],
   "source": [
    "url = 'https://raw.githubusercontent.com/selva86/datasets/master/BostonHousing.csv'\n",
    "boston_housing_dataset = pd.read_csv(url)\n",
    "boston_housing_dataset['medv'] = boston_housing_dataset['medv'].apply(lambda x: 'High' if x > 25 else 'Low')\n",
    "print(boston_housing_dataset)"
   ]
  },
  {
   "cell_type": "markdown",
   "id": "7b4fde96-d381-42be-9946-9996f5511c6e",
   "metadata": {
    "jp-MarkdownHeadingCollapsed": true
   },
   "source": [
    "### Упражнение № 34\n",
    "Создайте датафрейм со строками в виде шагов (интервалов) заданного ряда"
   ]
  },
  {
   "cell_type": "code",
   "execution_count": 73,
   "id": "830392fb-be8a-4d38-b2bf-5e280906a924",
   "metadata": {},
   "outputs": [
    {
     "name": "stdout",
     "output_type": "stream",
     "text": [
      "    0   1   2   3\n",
      "0   0   1   2   3\n",
      "1   2   3   4   5\n",
      "2   4   5   6   7\n",
      "3   6   7   8   9\n",
      "4   8   9  10  11\n",
      "5  10  11  12  13\n"
     ]
    }
   ],
   "source": [
    "L = pd.Series(range(15))\n",
    "df = pd.DataFrame([L[i:i+4].values for i in range(0, len(L)-3, 2)])\n",
    "print(df)"
   ]
  },
  {
   "cell_type": "markdown",
   "id": "cf633711-41d1-4c6c-a98e-56efaf054dc0",
   "metadata": {
    "jp-MarkdownHeadingCollapsed": true
   },
   "source": [
    "### Упражнение № 35\n",
    "Импортируйте столбцы 'crim' и 'medv' из набора данных [BostonHousing dataset](https://raw.githubusercontent.com/selva86/datasets/master/BostonHousing.csv) в виде датафрейма."
   ]
  },
  {
   "cell_type": "code",
   "execution_count": 76,
   "id": "bbe84aea-5a08-4e07-83d9-7842d24ce3c1",
   "metadata": {},
   "outputs": [
    {
     "name": "stdout",
     "output_type": "stream",
     "text": [
      "        crim  medv\n",
      "0    0.00632  24.0\n",
      "1    0.02731  21.6\n",
      "2    0.02729  34.7\n",
      "3    0.03237  33.4\n",
      "4    0.06905  36.2\n",
      "..       ...   ...\n",
      "501  0.06263  22.4\n",
      "502  0.04527  20.6\n",
      "503  0.06076  23.9\n",
      "504  0.10959  22.0\n",
      "505  0.04741  11.9\n",
      "\n",
      "[506 rows x 2 columns]\n"
     ]
    }
   ],
   "source": [
    "url = 'https://raw.githubusercontent.com/selva86/datasets/master/BostonHousing.csv'\n",
    "boston_housing_dataset = pd.read_csv(url, usecols=['crim', 'medv'])\n",
    "print(boston_housing_dataset)"
   ]
  },
  {
   "cell_type": "markdown",
   "id": "ae06d02e-975e-4055-9dc0-779b78de5627",
   "metadata": {},
   "source": [
    "### Упражнение № 36\n",
    "Получите количество строк, столбцов, тип данных и суммарную статистику каждого столбца набора данных [Cars93](https://raw.githubusercontent.com/selva86/datasets/master/Cars93_miss.csv). Также получите эквивалент датафрейма в виде numpy-массива и списка."
   ]
  },
  {
   "cell_type": "code",
   "execution_count": 87,
   "id": "9792f764-3288-49c1-ab87-1f60525ed181",
   "metadata": {},
   "outputs": [
    {
     "name": "stdout",
     "output_type": "stream",
     "text": [
      "<class 'pandas.core.frame.DataFrame'>\n",
      "RangeIndex: 93 entries, 0 to 92\n",
      "Data columns (total 27 columns):\n",
      " #   Column              Non-Null Count  Dtype  \n",
      "---  ------              --------------  -----  \n",
      " 0   Manufacturer        89 non-null     object \n",
      " 1   Model               92 non-null     object \n",
      " 2   Type                90 non-null     object \n",
      " 3   Min.Price           86 non-null     float64\n",
      " 4   Price               91 non-null     float64\n",
      " 5   Max.Price           88 non-null     float64\n",
      " 6   MPG.city            84 non-null     float64\n",
      " 7   MPG.highway         91 non-null     float64\n",
      " 8   AirBags             55 non-null     object \n",
      " 9   DriveTrain          86 non-null     object \n",
      " 10  Cylinders           88 non-null     object \n",
      " 11  EngineSize          91 non-null     float64\n",
      " 12  Horsepower          86 non-null     float64\n",
      " 13  RPM                 90 non-null     float64\n",
      " 14  Rev.per.mile        87 non-null     float64\n",
      " 15  Man.trans.avail     88 non-null     object \n",
      " 16  Fuel.tank.capacity  85 non-null     float64\n",
      " 17  Passengers          91 non-null     float64\n",
      " 18  Length              89 non-null     float64\n",
      " 19  Wheelbase           92 non-null     float64\n",
      " 20  Width               87 non-null     float64\n",
      " 21  Turn.circle         88 non-null     float64\n",
      " 22  Rear.seat.room      89 non-null     float64\n",
      " 23  Luggage.room        74 non-null     float64\n",
      " 24  Weight              86 non-null     float64\n",
      " 25  Origin              88 non-null     object \n",
      " 26  Make                90 non-null     object \n",
      "dtypes: float64(18), object(9)\n",
      "memory usage: 19.7+ KB\n",
      "None\n",
      "\n",
      "Numpy-массив:\n",
      " [['Acura' 'Integra' 'Small' ... 2705.0 'non-USA' 'Acura Integra']\n",
      " [nan 'Legend' 'Midsize' ... 3560.0 'non-USA' 'Acura Legend']\n",
      " ['Audi' '90' 'Compact' ... 3375.0 'non-USA' 'Audi 90']\n",
      " ...\n",
      " ['Volkswagen' 'Corrado' 'Sporty' ... 2810.0 'non-USA'\n",
      "  'Volkswagen Corrado']\n",
      " ['Volvo' '240' 'Compact' ... 2985.0 'non-USA' 'Volvo 240']\n",
      " [nan '850' 'Midsize' ... 3245.0 'non-USA' 'Volvo 850']]\n",
      "\n",
      "Список:\n",
      " [['Acura', 'Integra', 'Small', 12.9, 15.9, 18.8, 25.0, 31.0, nan, 'Front', '4', 1.8, 140.0, 6300.0, 2890.0, 'Yes', 13.2, 5.0, 177.0, 102.0, 68.0, 37.0, 26.5, nan, 2705.0, 'non-USA', 'Acura Integra'], [nan, 'Legend', 'Midsize', 29.2, 33.9, 38.7, 18.0, 25.0, 'Driver & Passenger', 'Front', '6', 3.2, 200.0, 5500.0, 2335.0, 'Yes', 18.0, 5.0, 195.0, 115.0, 71.0, 38.0, 30.0, 15.0, 3560.0, 'non-USA', 'Acura Legend'], ['Audi', '90', 'Compact', 25.9, 29.1, 32.3, 20.0, 26.0, 'Driver only', 'Front', '6', 2.8, 172.0, 5500.0, 2280.0, 'Yes', 16.9, 5.0, 180.0, 102.0, 67.0, 37.0, 28.0, 14.0, 3375.0, 'non-USA', 'Audi 90'], ['Audi', '100', 'Midsize', nan, 37.7, 44.6, 19.0, 26.0, 'Driver & Passenger', nan, '6', nan, 172.0, 5500.0, 2535.0, nan, 21.1, 6.0, 193.0, 106.0, nan, 37.0, 31.0, 17.0, 3405.0, 'non-USA', 'Audi 100'], ['BMW', '535i', 'Midsize', nan, 30.0, nan, 22.0, 30.0, nan, 'Rear', '4', 3.5, 208.0, 5700.0, 2545.0, 'Yes', 21.1, 4.0, 186.0, 109.0, 69.0, 39.0, 27.0, 13.0, 3640.0, 'non-USA', 'BMW 535i'], ['Buick', 'Century', 'Midsize', 14.2, 15.7, 17.3, 22.0, 31.0, 'Driver only', nan, '4', 2.2, 110.0, 5200.0, 2565.0, 'No', 16.4, 6.0, 189.0, 105.0, 69.0, 41.0, 28.0, 16.0, nan, 'USA', 'Buick Century'], ['Buick', 'LeSabre', 'Large', 19.9, 20.8, nan, 19.0, 28.0, 'Driver only', 'Front', '6', 3.8, 170.0, 4800.0, nan, 'No', nan, 6.0, 200.0, 111.0, 74.0, 42.0, 30.5, 17.0, 3470.0, 'USA', 'Buick LeSabre'], ['Buick', 'Roadmaster', 'Large', 22.6, 23.7, 24.9, 16.0, 25.0, 'Driver only', 'Rear', '6', 5.7, 180.0, 4000.0, 1320.0, 'No', 23.0, 6.0, 216.0, 116.0, 78.0, 45.0, 30.5, 21.0, 4105.0, 'USA', 'Buick Roadmaster'], ['Buick', 'Riviera', 'Midsize', 26.3, 26.3, 26.3, 19.0, 27.0, 'Driver only', 'Front', '6', 3.8, 170.0, 4800.0, 1690.0, 'No', 18.8, 5.0, 198.0, 108.0, nan, 41.0, 26.5, 14.0, 3495.0, 'USA', 'Buick Riviera'], ['Cadillac', 'DeVille', 'Large', 33.0, 34.7, 36.3, 16.0, 25.0, 'Driver only', 'Front', '8', 4.9, 200.0, 4100.0, nan, 'No', 18.0, 6.0, 206.0, 114.0, 73.0, 43.0, 35.0, 18.0, 3620.0, 'USA', 'Cadillac DeVille'], ['Cadillac', 'Seville', 'Midsize', 37.5, 40.1, 42.7, 16.0, 25.0, 'Driver & Passenger', 'Front', '8', 4.6, 295.0, 6000.0, 1985.0, 'No', 20.0, 5.0, 204.0, 111.0, 74.0, 44.0, 31.0, nan, 3935.0, 'USA', 'Cadillac Seville'], ['Chevrolet', 'Cavalier', 'Compact', 8.5, 13.4, 18.3, 25.0, 36.0, nan, nan, '4', 2.2, nan, 5200.0, 2380.0, 'Yes', 15.2, 5.0, 182.0, 101.0, 66.0, 38.0, 25.0, 13.0, 2490.0, 'USA', 'Chevrolet Cavalier'], ['Chevrolet', 'Corsica', 'Compact', 11.4, 11.4, 11.4, 25.0, 34.0, 'Driver only', 'Front', nan, 2.2, 110.0, 5200.0, 2665.0, 'Yes', 15.6, 5.0, 184.0, 103.0, 68.0, 39.0, 26.0, nan, 2785.0, 'USA', 'Chevrolet Corsica'], ['Chevrolet', 'Camaro', 'Sporty', 13.4, 15.1, 16.8, 19.0, 28.0, 'Driver & Passenger', 'Rear', nan, 3.4, 160.0, 4600.0, 1805.0, 'Yes', nan, 4.0, 193.0, 101.0, 74.0, 43.0, 25.0, 13.0, 3240.0, 'USA', 'Chevrolet Camaro'], ['Chevrolet', 'Lumina', 'Midsize', 13.4, 15.9, 18.4, nan, 29.0, nan, 'Front', '4', 2.2, nan, 5200.0, 2595.0, 'No', 16.5, 6.0, nan, 108.0, 71.0, nan, 28.5, 16.0, 3195.0, 'USA', 'Chevrolet Lumina'], ['Chevrolet', 'Lumina_APV', 'Van', 14.7, 16.3, 18.0, 18.0, 23.0, nan, 'Front', '6', 3.8, 170.0, 4800.0, 1690.0, 'No', 20.0, 7.0, 178.0, 110.0, 74.0, 44.0, 30.5, nan, 3715.0, 'USA', 'Chevrolet Lumina_APV'], ['Chevrolet', 'Astro', 'Van', 14.7, 16.6, 18.6, 15.0, 20.0, nan, '4WD', '6', 4.3, nan, 4000.0, 1790.0, 'No', 27.0, 8.0, 194.0, 111.0, 78.0, 42.0, 33.5, nan, 4025.0, 'USA', 'Chevrolet Astro'], ['Chevrolet', 'Caprice', 'Large', 18.0, 18.8, 19.6, 17.0, 26.0, 'Driver only', 'Rear', '8', 5.0, 170.0, 4200.0, 1350.0, 'No', 23.0, 6.0, 214.0, 116.0, 77.0, 42.0, 29.5, 20.0, 3910.0, 'USA', 'Chevrolet Caprice'], ['Chevrolet', 'Corvette', 'Sporty', 34.6, 38.0, 41.5, 17.0, 25.0, 'Driver only', 'Rear', '8', 5.7, 300.0, 5000.0, 1450.0, 'Yes', 20.0, 2.0, 179.0, 96.0, 74.0, 43.0, nan, nan, 3380.0, nan, 'Chevrolet Corvette'], [nan, 'Concorde', 'Large', 18.4, 18.4, 18.4, 20.0, 28.0, 'Driver & Passenger', 'Front', '6', 3.3, 153.0, 5300.0, 1990.0, 'No', 18.0, 6.0, 203.0, 113.0, 74.0, nan, 31.0, 15.0, 3515.0, 'USA', 'Chrylser Concorde'], ['Chrysler', 'LeBaron', 'Compact', 14.5, 15.8, 17.1, 23.0, 28.0, 'Driver & Passenger', 'Front', '4', 3.0, 141.0, 5000.0, 2090.0, 'No', 16.0, 6.0, 183.0, 104.0, 68.0, 41.0, 30.5, 14.0, 3085.0, 'USA', 'Chrysler LeBaron'], ['Chrysler', 'Imperial', 'Large', 29.5, 29.5, 29.5, 20.0, 26.0, 'Driver only', 'Front', '6', 3.3, 147.0, 4800.0, 1785.0, 'No', 16.0, 6.0, 203.0, 110.0, 69.0, 44.0, 36.0, 17.0, 3570.0, 'USA', 'Chrysler Imperial'], ['Dodge', 'Colt', 'Small', 7.9, 9.2, 10.6, 29.0, 33.0, nan, 'Front', '4', 1.5, 92.0, 6000.0, 3285.0, 'Yes', nan, 5.0, 174.0, 98.0, 66.0, 32.0, nan, 11.0, 2270.0, 'USA', 'Dodge Colt'], ['Dodge', 'Shadow', 'Small', 8.4, 11.3, 14.2, 23.0, 29.0, 'Driver only', 'Front', '4', 2.2, 93.0, 4800.0, nan, 'Yes', 14.0, 5.0, 172.0, 97.0, 67.0, 38.0, 26.5, nan, 2670.0, 'USA', 'Dodge Shadow'], ['Dodge', 'Spirit', 'Compact', 11.9, 13.3, 14.7, 22.0, 27.0, 'Driver only', 'Front', '4', 2.5, 100.0, 4800.0, 2535.0, 'Yes', nan, 6.0, 181.0, 104.0, 68.0, 39.0, 30.5, nan, 2970.0, 'USA', 'Dodge Spirit'], ['Dodge', 'Caravan', 'Van', nan, 19.0, 24.4, 17.0, 21.0, 'Driver only', '4WD', '6', 3.0, 142.0, 5000.0, 1970.0, 'No', 20.0, 7.0, 175.0, 112.0, 72.0, 42.0, 26.5, nan, 3705.0, 'USA', 'Dodge Caravan'], ['Dodge', 'Dynasty', 'Midsize', 14.8, 15.6, 16.4, 21.0, nan, 'Driver only', 'Front', nan, 2.5, 100.0, 4800.0, 2465.0, 'No', 16.0, 6.0, 192.0, 105.0, 69.0, 42.0, 30.5, 16.0, 3080.0, 'USA', 'Dodge Dynasty'], ['Dodge', 'Stealth', 'Sporty', 18.5, 25.8, 33.1, nan, 24.0, 'Driver only', '4WD', '6', 3.0, 300.0, 6000.0, 2120.0, 'Yes', 19.8, 4.0, 180.0, 97.0, nan, 40.0, 20.0, 11.0, 3805.0, 'USA', 'Dodge Stealth'], ['Eagle', 'Summit', 'Small', 7.9, 12.2, 16.5, 29.0, 33.0, nan, 'Front', '4', 1.5, 92.0, 6000.0, 2505.0, 'Yes', 13.2, 5.0, 174.0, 98.0, 66.0, 36.0, 26.5, 11.0, 2295.0, 'USA', 'Eagle Summit'], ['Eagle', 'Vision', 'Large', nan, 19.3, 21.2, 20.0, 28.0, 'Driver & Passenger', 'Front', '6', 3.5, nan, 5800.0, 1980.0, 'No', 18.0, 6.0, 202.0, 113.0, 74.0, 40.0, 30.0, 15.0, 3490.0, 'USA', 'Eagle Vision'], ['Ford', 'Festiva', 'Small', 6.9, 7.4, 7.9, 31.0, 33.0, nan, 'Front', '4', 1.3, 63.0, 5000.0, 3150.0, 'Yes', 10.0, 4.0, 141.0, 90.0, 63.0, 33.0, 26.0, 12.0, 1845.0, 'USA', 'Ford Festiva'], ['Ford', 'Escort', 'Small', 8.4, 10.1, 11.9, 23.0, 30.0, nan, 'Front', '4', 1.8, 127.0, 6500.0, 2410.0, nan, 13.2, 5.0, 171.0, 98.0, 67.0, 36.0, 28.0, 12.0, 2530.0, 'USA', 'Ford Escort'], ['Ford', 'Tempo', 'Compact', 10.4, 11.3, 12.2, 22.0, 27.0, nan, 'Front', '4', 2.3, 96.0, 4200.0, 2805.0, 'Yes', 15.9, 5.0, 177.0, 100.0, 68.0, nan, 27.5, 13.0, nan, 'USA', nan], ['Ford', 'Mustang', 'Sporty', 10.8, 15.9, 21.0, 22.0, 29.0, 'Driver only', 'Rear', '4', 2.3, 105.0, 4600.0, 2285.0, 'Yes', 15.4, 4.0, 180.0, 101.0, 68.0, 40.0, 24.0, 12.0, nan, 'USA', 'Ford Mustang'], ['Ford', 'Probe', 'Sporty', 12.8, 14.0, 15.2, nan, 30.0, 'Driver only', 'Front', '4', 2.0, 115.0, 5500.0, 2340.0, 'Yes', 15.5, 4.0, 179.0, 103.0, 70.0, 38.0, 23.0, 18.0, 2710.0, 'USA', 'Ford Probe'], ['Ford', 'Aerostar', 'Van', 14.5, 19.9, 25.3, 15.0, 20.0, 'Driver only', '4WD', '6', 3.0, 145.0, 4800.0, 2080.0, 'Yes', 21.0, 7.0, 176.0, 119.0, 72.0, 45.0, 30.0, nan, 3735.0, 'USA', 'Ford Aerostar'], ['Ford', 'Taurus', 'Midsize', 15.6, 20.2, 24.8, 21.0, 30.0, 'Driver only', 'Front', '6', 3.0, nan, 4800.0, 1885.0, 'No', nan, 5.0, 192.0, 106.0, 71.0, 40.0, 27.5, 18.0, 3325.0, 'USA', 'Ford Taurus'], ['Ford', 'Crown_Victoria', 'Large', 20.1, 20.9, 21.7, 18.0, 26.0, 'Driver only', 'Rear', '8', 4.6, 190.0, 4200.0, nan, 'No', 20.0, 6.0, 212.0, 114.0, 78.0, 43.0, 30.0, 21.0, 3950.0, 'USA', 'Ford Crown_Victoria'], ['Geo', 'Metro', 'Small', 6.7, 8.4, 10.0, 46.0, 50.0, nan, 'Front', '3', 1.0, 55.0, 5700.0, 3755.0, nan, 10.6, 4.0, 151.0, 93.0, 63.0, 34.0, 27.5, 10.0, 1695.0, 'non-USA', 'Geo Metro'], ['Geo', 'Storm', 'Sporty', 11.5, 12.5, 13.5, 30.0, 36.0, 'Driver only', 'Front', '4', 1.6, 90.0, 5400.0, 3250.0, 'Yes', 12.4, 4.0, 164.0, 97.0, nan, 37.0, 24.5, 11.0, 2475.0, 'non-USA', 'Geo Storm'], ['Honda', 'Prelude', 'Sporty', 17.0, 19.8, 22.7, 24.0, 31.0, 'Driver & Passenger', 'Front', '4', 2.3, 160.0, 5800.0, 2855.0, 'Yes', nan, 4.0, 175.0, 100.0, 70.0, 39.0, 23.5, 8.0, 2865.0, 'non-USA', 'Honda Prelude'], ['Honda', 'Civic', 'Small', 8.4, 12.1, 15.8, 42.0, 46.0, 'Driver only', 'Front', '4', 1.5, nan, 5900.0, 2650.0, 'Yes', 11.9, 4.0, 173.0, nan, 67.0, 36.0, 28.0, 12.0, nan, 'non-USA', 'Honda Civic'], ['Honda', 'Accord', 'Compact', 13.8, 17.5, 21.2, 24.0, 31.0, 'Driver & Passenger', 'Front', '4', 2.2, 140.0, 5600.0, nan, 'Yes', 17.0, 4.0, 185.0, 107.0, 67.0, 41.0, 28.0, 14.0, 3040.0, 'non-USA', 'Honda Accord'], ['Hyundai', 'Excel', 'Small', 6.8, 8.0, 9.2, 29.0, 33.0, nan, 'Front', '4', 1.5, 81.0, 5500.0, 2710.0, 'Yes', 11.9, 5.0, 168.0, 94.0, 63.0, 35.0, 26.0, 11.0, 2345.0, 'non-USA', 'Hyundai Excel'], ['Hyundai', 'Elantra', 'Small', 9.0, 10.0, 11.0, nan, 29.0, nan, 'Front', '4', 1.8, 124.0, 6000.0, 2745.0, 'Yes', 13.7, 5.0, 172.0, 98.0, 66.0, 36.0, 28.0, 12.0, 2620.0, 'non-USA', 'Hyundai Elantra'], ['Hyundai', 'Scoupe', nan, 9.1, 10.0, 11.0, 26.0, 34.0, nan, 'Front', '4', 1.5, 92.0, 5550.0, 2540.0, 'Yes', 11.9, 4.0, 166.0, 94.0, 64.0, 34.0, 23.5, 9.0, 2285.0, 'non-USA', nan], ['Hyundai', 'Sonata', 'Midsize', 12.4, 13.9, 15.3, 20.0, 27.0, nan, 'Front', '4', 2.0, 128.0, 6000.0, 2335.0, 'Yes', 17.2, 5.0, 184.0, 104.0, 69.0, 41.0, 31.0, nan, 2885.0, nan, 'Hyundai Sonata'], ['Infiniti', 'Q45', 'Midsize', 45.4, 47.9, nan, 17.0, 22.0, nan, 'Rear', '8', 4.5, 278.0, 6000.0, 1955.0, 'No', 22.5, 5.0, 200.0, 113.0, 72.0, 42.0, 29.0, 15.0, 4000.0, 'non-USA', 'Infiniti Q45'], ['Lexus', 'ES300', 'Midsize', 27.5, 28.0, 28.4, 18.0, 24.0, 'Driver only', 'Front', '6', 3.0, 185.0, nan, 2325.0, 'Yes', 18.5, 5.0, 188.0, 103.0, 70.0, 40.0, 27.5, 14.0, 3510.0, 'non-USA', 'Lexus ES300'], [nan, 'SC300', 'Midsize', 34.7, 35.2, 35.6, 18.0, 23.0, 'Driver & Passenger', 'Rear', '6', 3.0, 225.0, 6000.0, 2510.0, 'Yes', nan, 4.0, 191.0, 106.0, 71.0, 39.0, 25.0, 9.0, 3515.0, 'non-USA', 'Lexus SC300'], ['Lincoln', 'Continental', 'Midsize', 33.3, 34.3, 35.3, 17.0, 26.0, 'Driver & Passenger', nan, '6', 3.8, 160.0, 4400.0, 1835.0, 'No', 18.4, 6.0, 205.0, 109.0, 73.0, 42.0, 30.0, 19.0, 3695.0, 'USA', 'Lincoln Continental'], ['Lincoln', 'Town_Car', 'Large', 34.4, 36.1, 37.8, 18.0, 26.0, 'Driver & Passenger', 'Rear', '8', 4.6, 210.0, 4600.0, 1840.0, 'No', 20.0, nan, 219.0, 117.0, 77.0, 45.0, 31.5, 22.0, 4055.0, 'USA', 'Lincoln Town_Car'], ['Mazda', '323', 'Small', 7.4, 8.3, 9.1, 29.0, 37.0, nan, 'Front', '4', 1.6, 82.0, 5000.0, 2370.0, 'Yes', 13.2, 4.0, 164.0, 97.0, 66.0, 34.0, 27.0, 16.0, 2325.0, 'non-USA', 'Mazda 323'], ['Mazda', 'Protege', 'Small', 10.9, 11.6, 12.3, 28.0, 36.0, nan, 'Front', '4', 1.8, 103.0, 5500.0, 2220.0, 'Yes', 14.5, 5.0, 172.0, 98.0, 66.0, 36.0, 26.5, 13.0, 2440.0, 'non-USA', 'Mazda Protege'], ['Mazda', '626', 'Compact', 14.3, 16.5, 18.7, 26.0, 34.0, 'Driver only', 'Front', '4', 2.5, 164.0, 5600.0, 2505.0, 'Yes', 15.5, 5.0, 184.0, 103.0, 69.0, 40.0, 29.5, 14.0, 2970.0, 'non-USA', 'Mazda 626'], ['Mazda', 'MPV', 'Van', 16.6, 19.1, 21.7, 18.0, 24.0, nan, '4WD', '6', 3.0, 155.0, 5000.0, 2240.0, 'No', 19.6, 7.0, 190.0, 110.0, 72.0, 39.0, 27.5, nan, 3735.0, 'non-USA', 'Mazda MPV'], ['Mazda', 'RX-7', 'Sporty', 32.5, 32.5, 32.5, 17.0, 25.0, 'Driver only', nan, 'rotary', 1.3, 255.0, 6500.0, 2325.0, 'Yes', 20.0, 2.0, 169.0, 96.0, 69.0, nan, nan, nan, nan, 'non-USA', 'Mazda RX-7'], ['Mercedes-Benz', '190E', 'Compact', 29.0, 31.9, 34.9, nan, 29.0, 'Driver only', 'Rear', '4', 2.3, 130.0, 5100.0, 2425.0, 'Yes', 14.5, 5.0, 175.0, 105.0, 67.0, 34.0, 26.0, 12.0, 2920.0, nan, 'Mercedes-Benz 190E'], ['Mercedes-Benz', '300E', 'Midsize', 43.8, 61.9, 80.0, 19.0, 25.0, 'Driver & Passenger', 'Rear', '6', 3.2, 217.0, 5500.0, 2220.0, 'No', 18.5, 5.0, nan, 110.0, 69.0, 37.0, nan, 15.0, 3525.0, 'non-USA', 'Mercedes-Benz 300E'], ['Mercury', nan, 'Sporty', 13.3, 14.1, 15.0, 23.0, 26.0, 'Driver only', 'Front', '4', 1.6, 100.0, 5750.0, 2475.0, 'Yes', 11.1, 4.0, 166.0, 95.0, 65.0, 36.0, 19.0, 6.0, 2450.0, 'USA', 'Mercury Capri'], ['Mercury', 'Cougar', 'Midsize', 14.9, 14.9, 14.9, 19.0, 26.0, nan, 'Rear', '6', 3.8, 140.0, 3800.0, 1730.0, 'No', 18.0, 5.0, 199.0, 113.0, 73.0, 38.0, 28.0, 15.0, 3610.0, 'USA', 'Mercury Cougar'], ['Mitsubishi', 'Mirage', 'Small', 7.7, 10.3, 12.9, 29.0, nan, nan, 'Front', '4', 1.5, 92.0, 6000.0, 2505.0, 'Yes', 13.2, 5.0, 172.0, 98.0, 67.0, 36.0, 26.0, 11.0, 2295.0, 'non-USA', 'Mitsubishi Mirage'], ['Mitsubishi', 'Diamante', 'Midsize', 22.4, 26.1, nan, 18.0, 24.0, 'Driver only', 'Front', '6', 3.0, 202.0, 6000.0, 2210.0, 'No', 19.0, 5.0, 190.0, 107.0, 70.0, 43.0, 27.5, 14.0, 3730.0, 'non-USA', 'Mitsubishi Diamante'], ['Nissan', 'Sentra', 'Small', 8.7, 11.8, 14.9, 29.0, 33.0, 'Driver only', 'Front', nan, 1.6, 110.0, 6000.0, 2435.0, 'Yes', 13.2, 5.0, 170.0, 96.0, 66.0, 33.0, 26.0, nan, nan, 'non-USA', 'Nissan Sentra'], ['Nissan', 'Altima', 'Compact', 13.0, 15.7, 18.3, 24.0, 30.0, 'Driver only', 'Front', '4', 2.4, 150.0, 5600.0, 2130.0, 'Yes', 15.9, 5.0, 181.0, 103.0, 67.0, 40.0, 28.5, 14.0, 3050.0, 'non-USA', 'Nissan Altima'], ['Nissan', 'Quest', 'Van', 16.7, 19.1, 21.5, 17.0, 23.0, nan, 'Front', '6', 3.0, nan, 4800.0, 2065.0, 'No', 20.0, 7.0, 190.0, 112.0, 74.0, 41.0, 27.0, nan, 4100.0, 'non-USA', 'Nissan Quest'], ['Nissan', 'Maxima', 'Midsize', 21.0, 21.5, 22.0, 21.0, 26.0, 'Driver only', 'Front', '6', 3.0, 160.0, 5200.0, 2045.0, nan, 18.5, 5.0, 188.0, 104.0, 69.0, 41.0, 28.5, 14.0, 3200.0, 'non-USA', 'Nissan Maxima'], ['Oldsmobile', 'Achieva', 'Compact', 13.0, 13.5, 14.0, 24.0, 31.0, nan, 'Front', '4', 2.3, 155.0, 6000.0, 2380.0, 'No', 15.2, 5.0, 188.0, 103.0, 67.0, 39.0, 28.0, 14.0, 2910.0, 'USA', 'Oldsmobile Achieva'], ['Oldsmobile', 'Cutlass_Ciera', 'Midsize', 14.2, 16.3, 18.4, 23.0, 31.0, 'Driver only', 'Front', '4', 2.2, 110.0, 5200.0, 2565.0, 'No', nan, 5.0, 190.0, 105.0, 70.0, 42.0, 28.0, 16.0, 2890.0, 'USA', 'Oldsmobile Cutlass_Ciera'], ['Oldsmobile', 'Silhouette', 'Van', 19.5, 19.5, 19.5, 18.0, 23.0, nan, 'Front', '6', 3.8, 170.0, 4800.0, 1690.0, 'No', 20.0, 7.0, nan, 110.0, 74.0, 44.0, 30.5, nan, 3715.0, 'USA', 'Oldsmobile Silhouette'], ['Oldsmobile', 'Eighty-Eight', 'Large', 19.5, 20.7, 21.9, nan, 28.0, 'Driver only', 'Front', '6', 3.8, 170.0, 4800.0, 1570.0, 'No', 18.0, 6.0, 201.0, 111.0, 74.0, 42.0, 31.5, 17.0, 3470.0, 'USA', 'Oldsmobile Eighty-Eight'], ['Plymouth', 'Laser', 'Sporty', 11.4, 14.4, 17.4, nan, 30.0, nan, '4WD', '4', 1.8, 92.0, 5000.0, 2360.0, 'Yes', 15.9, 4.0, 173.0, 97.0, 67.0, 39.0, 24.5, 8.0, 2640.0, nan, 'Plymouth Laser'], ['Pontiac', 'LeMans', 'Small', nan, 9.0, 9.9, 31.0, 41.0, nan, 'Front', '4', 1.6, 74.0, 5600.0, 3130.0, 'Yes', 13.2, 4.0, 177.0, 99.0, 66.0, 35.0, 25.5, 17.0, 2350.0, 'USA', 'Pontiac LeMans'], ['Pontiac', 'Sunbird', 'Compact', 9.4, 11.1, 12.8, nan, 31.0, nan, nan, '4', 2.0, 110.0, 5200.0, 2665.0, 'Yes', 15.2, 5.0, 181.0, 101.0, 66.0, 39.0, 25.0, 13.0, nan, 'USA', nan], ['Pontiac', 'Firebird', nan, 14.0, 17.7, 21.4, 19.0, 28.0, 'Driver & Passenger', 'Rear', '6', nan, 160.0, 4600.0, 1805.0, 'Yes', 15.5, 4.0, 196.0, 101.0, 75.0, 43.0, 25.0, 13.0, 3240.0, 'USA', 'Pontiac Firebird'], ['Pontiac', 'Grand_Prix', 'Midsize', 15.4, 18.5, 21.6, 19.0, 27.0, nan, 'Front', '6', 3.4, 200.0, 5000.0, 1890.0, 'Yes', 16.5, 5.0, 195.0, 108.0, 72.0, 41.0, 28.5, 16.0, 3450.0, 'USA', 'Pontiac Grand_Prix'], ['Pontiac', 'Bonneville', 'Large', 19.4, 24.4, 29.4, 19.0, 28.0, 'Driver & Passenger', 'Front', '6', 3.8, 170.0, 4800.0, 1565.0, 'No', 18.0, 6.0, 177.0, 111.0, 74.0, 43.0, 30.5, 18.0, 3495.0, 'USA', 'Pontiac Bonneville'], ['Saab', '900', 'Compact', 20.3, 28.7, 37.1, 20.0, 26.0, nan, 'Front', '4', 2.1, 140.0, 6000.0, 2910.0, 'Yes', 18.0, 5.0, nan, 99.0, 67.0, 37.0, 26.5, 14.0, 2775.0, 'non-USA', 'Saab 900'], ['Saturn', 'SL', 'Small', 9.2, nan, 12.9, nan, 38.0, 'Driver only', 'Front', '4', 1.9, 85.0, 5000.0, 2145.0, 'Yes', 12.8, 5.0, 176.0, 102.0, 68.0, 40.0, 26.5, nan, 2495.0, 'USA', 'Saturn SL'], ['Subaru', 'Justy', 'Small', 7.3, 8.4, 9.5, 33.0, 37.0, nan, '4WD', '3', 1.2, 73.0, 5600.0, 2875.0, 'Yes', 9.2, 4.0, 146.0, 90.0, 60.0, 32.0, 23.5, 10.0, 2045.0, 'non-USA', 'Subaru Justy'], ['Subaru', 'Loyale', 'Small', 10.5, 10.9, 11.3, 25.0, 30.0, nan, '4WD', '4', 1.8, 90.0, 5200.0, 3375.0, 'Yes', 15.9, 5.0, 175.0, 97.0, 65.0, 35.0, 27.5, 15.0, 2490.0, 'non-USA', 'Subaru Loyale'], ['Subaru', 'Legacy', 'Compact', 16.3, 19.5, 22.7, 23.0, 30.0, 'Driver only', '4WD', '4', 2.2, 130.0, nan, 2330.0, 'Yes', 15.9, 5.0, 179.0, 102.0, 67.0, 37.0, 27.0, 14.0, 3085.0, 'non-USA', 'Subaru Legacy'], ['Suzuki', 'Swift', nan, 7.3, 8.6, nan, 39.0, 43.0, nan, 'Front', '3', 1.3, 70.0, 6000.0, 3360.0, 'Yes', 10.6, 4.0, 161.0, 93.0, nan, 34.0, 27.5, 10.0, 1965.0, 'non-USA', 'Suzuki Swift'], ['Toyota', 'Tercel', 'Small', nan, 9.8, 11.8, 32.0, 37.0, 'Driver only', 'Front', '4', 1.5, 82.0, 5200.0, 3505.0, 'Yes', 11.9, nan, 162.0, 94.0, nan, 36.0, 24.0, 11.0, 2055.0, 'non-USA', 'Toyota Tercel'], ['Toyota', 'Celica', 'Sporty', 14.2, 18.4, 22.6, 25.0, 32.0, nan, 'Front', '4', 2.2, 135.0, nan, 2405.0, 'Yes', 15.9, 4.0, 174.0, 99.0, 69.0, nan, 23.0, 13.0, 2950.0, 'non-USA', 'Toyota Celica'], ['Toyota', 'Camry', 'Midsize', 15.2, nan, 21.2, 22.0, 29.0, 'Driver only', nan, '4', 2.2, 130.0, 5400.0, 2340.0, nan, 18.5, 5.0, 188.0, 103.0, 70.0, 38.0, 28.5, 15.0, 3030.0, 'non-USA', 'Toyota Camry'], ['Toyota', 'Previa', 'Van', nan, 22.7, 26.6, 18.0, 22.0, 'Driver only', '4WD', '4', 2.4, 138.0, 5000.0, 2515.0, 'Yes', 19.8, 7.0, 187.0, 113.0, 71.0, 41.0, 35.0, nan, 3785.0, 'non-USA', 'Toyota Previa'], ['Volkswagen', 'Fox', 'Small', 8.7, 9.1, 9.5, 25.0, 33.0, nan, 'Front', '4', 1.8, 81.0, 5500.0, 2550.0, 'Yes', 12.4, 4.0, 163.0, 93.0, 63.0, 34.0, 26.0, 10.0, 2240.0, 'non-USA', 'Volkswagen Fox'], ['Volkswagen', 'Eurovan', 'Van', 16.6, 19.7, 22.7, 17.0, 21.0, nan, 'Front', '5', 2.5, 109.0, 4500.0, 2915.0, 'Yes', 21.1, 7.0, 187.0, 115.0, 72.0, 38.0, 34.0, nan, 3960.0, nan, 'Volkswagen Eurovan'], ['Volkswagen', 'Passat', 'Compact', 17.6, 20.0, 22.4, 21.0, 30.0, nan, 'Front', '4', 2.0, 134.0, 5800.0, 2685.0, 'Yes', 18.5, 5.0, 180.0, 103.0, 67.0, 35.0, 31.5, 14.0, 2985.0, 'non-USA', 'Volkswagen Passat'], ['Volkswagen', 'Corrado', 'Sporty', 22.9, 23.3, 23.7, 18.0, 25.0, nan, 'Front', '6', 2.8, 178.0, 5800.0, 2385.0, 'Yes', 18.5, 4.0, 159.0, 97.0, 66.0, 36.0, 26.0, 15.0, 2810.0, 'non-USA', 'Volkswagen Corrado'], ['Volvo', '240', 'Compact', 21.8, 22.7, 23.5, 21.0, 28.0, 'Driver only', 'Rear', nan, 2.3, 114.0, 5400.0, 2215.0, 'Yes', 15.8, 5.0, 190.0, 104.0, 67.0, 37.0, 29.5, 14.0, 2985.0, 'non-USA', 'Volvo 240'], [nan, '850', 'Midsize', 24.8, 26.7, 28.5, 20.0, 28.0, 'Driver & Passenger', 'Front', '5', 2.4, 168.0, 6200.0, nan, 'Yes', 19.3, 5.0, 184.0, 105.0, 69.0, 38.0, 30.0, 15.0, 3245.0, 'non-USA', 'Volvo 850']]\n"
     ]
    }
   ],
   "source": [
    "url = 'https://raw.githubusercontent.com/selva86/datasets/master/Cars93_miss.csv'\n",
    "data = pd.read_csv(url)\n",
    "numpy_arr = data.to_numpy()\n",
    "list = data.values.tolist()\n",
    "print(data.info())\n",
    "print(f'\\nNumpy-массив:\\n {numpy_arr}')\n",
    "print(f'\\nСписок:\\n {list}')"
   ]
  }
 ],
 "metadata": {
  "kernelspec": {
   "display_name": "Python 3 (ipykernel)",
   "language": "python",
   "name": "python3"
  },
  "language_info": {
   "codemirror_mode": {
    "name": "ipython",
    "version": 3
   },
   "file_extension": ".py",
   "mimetype": "text/x-python",
   "name": "python",
   "nbconvert_exporter": "python",
   "pygments_lexer": "ipython3",
   "version": "3.12.1"
  }
 },
 "nbformat": 4,
 "nbformat_minor": 5
}
