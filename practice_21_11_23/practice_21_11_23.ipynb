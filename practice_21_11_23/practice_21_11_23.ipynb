{
 "cells": [
  {
   "cell_type": "markdown",
   "id": "4fa37b1c-33fd-4c66-b0a3-78b579f980f7",
   "metadata": {
    "jp-MarkdownHeadingCollapsed": true
   },
   "source": [
    "#### Упражнение № 1\n",
    "Создайте Series из каждого из элементов: списка, ndarray и словаря."
   ]
  },
  {
   "cell_type": "code",
   "execution_count": 1,
   "id": "f1ac99a6-5e40-4cc3-883a-af98349a3968",
   "metadata": {},
   "outputs": [
    {
     "name": "stdout",
     "output_type": "stream",
     "text": [
      "mylist:\n",
      " 0     a\n",
      "1     b\n",
      "2     c\n",
      "3     e\n",
      "4     d\n",
      "5     f\n",
      "6     g\n",
      "7     h\n",
      "8     i\n",
      "9     j\n",
      "10    k\n",
      "11    l\n",
      "12    m\n",
      "13    n\n",
      "14    o\n",
      "15    p\n",
      "16    q\n",
      "17    r\n",
      "18    s\n",
      "19    t\n",
      "20    u\n",
      "21    v\n",
      "22    w\n",
      "23    x\n",
      "24    y\n",
      "25    z\n",
      "dtype: object\n",
      "myarr:\n",
      " 0      0\n",
      "1      1\n",
      "2      2\n",
      "3      3\n",
      "4      4\n",
      "5      5\n",
      "6      6\n",
      "7      7\n",
      "8      8\n",
      "9      9\n",
      "10    10\n",
      "11    11\n",
      "12    12\n",
      "13    13\n",
      "14    14\n",
      "15    15\n",
      "16    16\n",
      "17    17\n",
      "18    18\n",
      "19    19\n",
      "20    20\n",
      "21    21\n",
      "22    22\n",
      "23    23\n",
      "24    24\n",
      "25    25\n",
      "dtype: int32\n",
      "mydict:\n",
      " a     0\n",
      "b     1\n",
      "c     2\n",
      "e     3\n",
      "d     4\n",
      "f     5\n",
      "g     6\n",
      "h     7\n",
      "i     8\n",
      "j     9\n",
      "k    10\n",
      "l    11\n",
      "m    12\n",
      "n    13\n",
      "o    14\n",
      "p    15\n",
      "q    16\n",
      "r    17\n",
      "s    18\n",
      "t    19\n",
      "u    20\n",
      "v    21\n",
      "w    22\n",
      "x    23\n",
      "y    24\n",
      "z    25\n",
      "dtype: int32\n"
     ]
    }
   ],
   "source": [
    "import pandas as pd\n",
    "import numpy as np\n",
    "\n",
    "mylist = list('abcedfghijklmnopqrstuvwxyz')\n",
    "myarr = np.arange(26)\n",
    "mydict = dict(zip(mylist, myarr))\n",
    "\n",
    "print('mylist:\\n', pd.Series(mylist))\n",
    "print('myarr:\\n', pd.Series(myarr))\n",
    "print('mydict:\\n', pd.Series(mydict))"
   ]
  },
  {
   "cell_type": "markdown",
   "id": "a328caa4-e171-44d6-9048-87c97eb2bfc9",
   "metadata": {
    "jp-MarkdownHeadingCollapsed": true
   },
   "source": [
    "#### Упражнение № 2\n",
    "Преобразуйте `ser` в датафрейм с его индексом в качестве еще одного столбца датафрейма."
   ]
  },
  {
   "cell_type": "code",
   "execution_count": 2,
   "id": "ca048856-41c9-4f96-b268-12c7a74bb2b5",
   "metadata": {},
   "outputs": [
    {
     "name": "stdout",
     "output_type": "stream",
     "text": [
      "   index   0\n",
      "0      a   0\n",
      "1      b   1\n",
      "2      c   2\n",
      "3      e   3\n",
      "4      d   4\n",
      "5      f   5\n",
      "6      g   6\n",
      "7      h   7\n",
      "8      i   8\n",
      "9      j   9\n",
      "10     k  10\n",
      "11     l  11\n",
      "12     m  12\n",
      "13     n  13\n",
      "14     o  14\n",
      "15     p  15\n",
      "16     q  16\n",
      "17     r  17\n",
      "18     s  18\n",
      "19     t  19\n",
      "20     u  20\n",
      "21     v  21\n",
      "22     w  22\n",
      "23     x  23\n",
      "24     y  24\n",
      "25     z  25\n"
     ]
    }
   ],
   "source": [
    "import pandas as pd\n",
    "import numpy as np\n",
    "\n",
    "mylist = list('abcedfghijklmnopqrstuvwxyz')\n",
    "myarr = np.arange(26)\n",
    "mydict = dict(zip(mylist, myarr))\n",
    "ser = pd.Series(mydict)\n",
    "\n",
    "df = pd.DataFrame(ser)\n",
    "print(df.reset_index())"
   ]
  },
  {
   "cell_type": "markdown",
   "id": "b5cc2305-9387-4e7e-991e-849a8d64184d",
   "metadata": {
    "jp-MarkdownHeadingCollapsed": true
   },
   "source": [
    "#### Упражнение № 3\n",
    "Объедините ser1 и ser2, чтобы сформировать датафрейм."
   ]
  },
  {
   "cell_type": "code",
   "execution_count": 3,
   "id": "a43a40f5-4123-4419-98a2-71ef08535eb4",
   "metadata": {},
   "outputs": [
    {
     "name": "stdout",
     "output_type": "stream",
     "text": [
      "   ser1  ser2\n",
      "0     a     0\n",
      "1     b     1\n",
      "2     c     2\n",
      "3     e     3\n",
      "4     d     4\n",
      "5     f     5\n",
      "6     g     6\n",
      "7     h     7\n",
      "8     i     8\n",
      "9     j     9\n",
      "10    k    10\n",
      "11    l    11\n",
      "12    m    12\n",
      "13    n    13\n",
      "14    o    14\n",
      "15    p    15\n",
      "16    q    16\n",
      "17    r    17\n",
      "18    s    18\n",
      "19    t    19\n",
      "20    u    20\n",
      "21    v    21\n",
      "22    w    22\n",
      "23    x    23\n",
      "24    y    24\n",
      "25    z    25\n"
     ]
    }
   ],
   "source": [
    "import pandas as pd\n",
    "import numpy as np\n",
    "\n",
    "mylist = list('abcedfghijklmnopqrstuvwxyz')\n",
    "myarr = np.arange(26)\n",
    "mydict = dict(zip(mylist, myarr))\n",
    "\n",
    "ser1 = pd.Series(mylist)\n",
    "ser2 = pd.Series(myarr)\n",
    "print(pd.DataFrame({'ser1': ser1, 'ser2': ser2}))"
   ]
  },
  {
   "cell_type": "markdown",
   "id": "da13a555-c716-4af0-976f-ca6e3f2a2111",
   "metadata": {
    "jp-MarkdownHeadingCollapsed": true
   },
   "source": [
    "#### Упражнение № 4\n",
    "Добавьте имя ряда  `ser`, назвав его `latin_letters`."
   ]
  },
  {
   "cell_type": "code",
   "execution_count": 4,
   "id": "2cdd5a5c-7c5d-473d-9e30-90102b347574",
   "metadata": {},
   "outputs": [
    {
     "name": "stdout",
     "output_type": "stream",
     "text": [
      "0     a\n",
      "1     b\n",
      "2     c\n",
      "3     e\n",
      "4     d\n",
      "5     f\n",
      "6     g\n",
      "7     h\n",
      "8     i\n",
      "9     j\n",
      "10    k\n",
      "11    l\n",
      "12    m\n",
      "13    n\n",
      "14    o\n",
      "15    p\n",
      "16    q\n",
      "17    r\n",
      "18    s\n",
      "19    t\n",
      "20    u\n",
      "21    v\n",
      "22    w\n",
      "23    x\n",
      "24    y\n",
      "25    z\n",
      "Name: latin_letters, dtype: object\n"
     ]
    }
   ],
   "source": [
    "import pandas as pd\n",
    "import numpy as np\n",
    "\n",
    "ser = pd.Series(list('abcedfghijklmnopqrstuvwxyz'), name='latin_letters')\n",
    "print(ser)"
   ]
  },
  {
   "cell_type": "markdown",
   "id": "2bf31d79-4ec4-457c-b967-e8ed586f41b0",
   "metadata": {
    "jp-MarkdownHeadingCollapsed": true
   },
   "source": [
    "#### Упражнение № 5\n",
    "Из `ser1` удалите элементы, присутствующие в `ser2`."
   ]
  },
  {
   "cell_type": "code",
   "execution_count": 5,
   "id": "6f9c8be7-de2b-48df-a596-3db697fa565c",
   "metadata": {},
   "outputs": [
    {
     "name": "stdout",
     "output_type": "stream",
     "text": [
      "0    1\n",
      "1    2\n",
      "2    3\n",
      "dtype: int64\n"
     ]
    }
   ],
   "source": [
    "import pandas as pd\n",
    "\n",
    "ser1 = pd.Series([1, 2, 3, 4, 5])\n",
    "ser2 = pd.Series([4, 5, 6, 7, 8])\n",
    "\n",
    "ser1 = ser1[~ser1.isin(ser2)]\n",
    "print(ser1)"
   ]
  },
  {
   "cell_type": "markdown",
   "id": "2dcfa900-3239-4dec-8840-4cc4ee90b6ba",
   "metadata": {
    "jp-MarkdownHeadingCollapsed": true
   },
   "source": [
    "#### Упражнение № 6\n",
    "Получить все элементы `ser1` и `ser2`, которые не являются общими для обоих рядов."
   ]
  },
  {
   "cell_type": "code",
   "execution_count": 6,
   "id": "ea642900-3298-4c08-be02-19f97c3ffeb0",
   "metadata": {},
   "outputs": [
    {
     "name": "stdout",
     "output_type": "stream",
     "text": [
      "0    1\n",
      "1    2\n",
      "2    3\n",
      "2    6\n",
      "3    7\n",
      "4    8\n",
      "dtype: int64\n"
     ]
    }
   ],
   "source": [
    "import pandas as pd\n",
    "\n",
    "ser1 = pd.Series([1, 2, 3, 4, 5])\n",
    "ser2 = pd.Series([4, 5, 6, 7, 8])\n",
    "\n",
    "ser1_without_ser2 = ser1[~ser1.isin(ser2)]\n",
    "ser2_without_ser1 = ser2[~ser2.isin(ser1)]\n",
    "\n",
    "print(pd.concat([ser1_without_ser2, ser2_without_ser1]))"
   ]
  },
  {
   "cell_type": "markdown",
   "id": "3d444344-5463-46f7-b173-328a1a30b0b7",
   "metadata": {
    "jp-MarkdownHeadingCollapsed": true
   },
   "source": [
    "#### Упражнение № 7\n",
    "Вычислите минимальное значение, 25-й процентиль, медиану, 75-й процентиль и максимальное значение `ser`."
   ]
  },
  {
   "cell_type": "code",
   "execution_count": 7,
   "id": "d007227f-b0a2-4c46-8cae-f8c1725c4ac2",
   "metadata": {},
   "outputs": [
    {
     "name": "stdout",
     "output_type": "stream",
     "text": [
      "Минимальное значение: 1.3581145756458604\n",
      "25-й процентиль: 6.776857525656801\n",
      "75-й процентиль: 14.977418069028278\n",
      "Максимальное значение: 18.10539604235677\n"
     ]
    }
   ],
   "source": [
    "ser = pd.Series(np.random.normal(10, 5, 25))\n",
    "\n",
    "print(f'Минимальное значение: {ser.min()}')\n",
    "print(f'25-й процентиль: {ser.quantile(.25)}')\n",
    "print(f'75-й процентиль: {ser.quantile(.75)}')\n",
    "print(f'Максимальное значение: {ser.max()}')"
   ]
  },
  {
   "cell_type": "markdown",
   "id": "7a98aeb4-1664-4790-b23e-d1acc87fd768",
   "metadata": {
    "jp-MarkdownHeadingCollapsed": true
   },
   "source": [
    "#### Упражнение № 8\n",
    "Вычислите частоту встречаемости каждого уникального значения `ser`."
   ]
  },
  {
   "cell_type": "code",
   "execution_count": 8,
   "id": "8ec0d8d2-b0b0-48e9-970c-a8f75254d4f4",
   "metadata": {},
   "outputs": [
    {
     "name": "stdout",
     "output_type": "stream",
     "text": [
      "c    6\n",
      "f    6\n",
      "b    4\n",
      "d    4\n",
      "a    3\n",
      "g    3\n",
      "e    2\n",
      "h    2\n",
      "Name: count, dtype: int64\n"
     ]
    }
   ],
   "source": [
    "ser = pd.Series(np.take(list('abcdefgh'), np.random.randint(8, size=30)))\n",
    "print(ser.value_counts())"
   ]
  },
  {
   "cell_type": "markdown",
   "id": "c4fd5712-b03e-4299-936e-4410a8a3f45f",
   "metadata": {
    "jp-MarkdownHeadingCollapsed": true
   },
   "source": [
    "#### Упражнение № 9\n",
    "Из `ser` оставить 2 наиболее часто встречающихся элемента без изменений, а все остальные заменить на `Прочее`."
   ]
  },
  {
   "cell_type": "code",
   "execution_count": 9,
   "id": "c0148ee5-3037-4ed9-81e5-043a9b851b08",
   "metadata": {},
   "outputs": [
    {
     "name": "stdout",
     "output_type": "stream",
     "text": [
      "0     2\n",
      "1     3\n",
      "2     3\n",
      "3     2\n",
      "4     1\n",
      "5     2\n",
      "6     4\n",
      "7     3\n",
      "8     3\n",
      "9     1\n",
      "10    3\n",
      "11    3\n",
      "dtype: int32\n",
      "0          2\n",
      "1          3\n",
      "2          3\n",
      "3          2\n",
      "4     Прочее\n",
      "5          2\n",
      "6     Прочее\n",
      "7          3\n",
      "8          3\n",
      "9     Прочее\n",
      "10         3\n",
      "11         3\n",
      "dtype: object\n"
     ]
    },
    {
     "name": "stderr",
     "output_type": "stream",
     "text": [
      "C:\\Users\\user\\AppData\\Local\\Temp\\ipykernel_17012\\3317662493.py:6: FutureWarning: Setting an item of incompatible dtype is deprecated and will raise in a future error of pandas. Value 'Прочее' has dtype incompatible with int32, please explicitly cast to a compatible dtype first.\n",
      "  ser[~ser.isin(top_two_freq_ints)] = 'Прочее'\n"
     ]
    }
   ],
   "source": [
    "np.random.RandomState(100)\n",
    "ser = pd.Series(np.random.randint(1, 5, [12]))\n",
    "print(ser)\n",
    "\n",
    "top_two_freq_ints = ser.value_counts().index[:2]\n",
    "ser[~ser.isin(top_two_freq_ints)] = 'Прочее'\n",
    "\n",
    "print(ser)"
   ]
  },
  {
   "cell_type": "markdown",
   "id": "d2998883-9fb2-4ebd-8b6b-da6189951afb",
   "metadata": {
    "jp-MarkdownHeadingCollapsed": true
   },
   "source": [
    "#### Упражнение № 10\r\n",
    "\r\n",
    "Разбейте ряд `ser` на 10 равных децилей и замените значения на название децил.\r\n"
   ]
  },
  {
   "cell_type": "code",
   "execution_count": 10,
   "id": "812d135d-e898-40c5-a17b-0da8704a2c27",
   "metadata": {},
   "outputs": [
    {
     "name": "stdout",
     "output_type": "stream",
     "text": [
      "0     0.857951\n",
      "1     0.312802\n",
      "2     0.913450\n",
      "3     0.977896\n",
      "4     0.004410\n",
      "5     0.172326\n",
      "6     0.007838\n",
      "7     0.188895\n",
      "8     0.165840\n",
      "9     0.001428\n",
      "10    0.224367\n",
      "11    0.175352\n",
      "12    0.341883\n",
      "13    0.544389\n",
      "14    0.636161\n",
      "15    0.344636\n",
      "16    0.948834\n",
      "17    0.138655\n",
      "18    0.343316\n",
      "19    0.171092\n",
      "dtype: float64\n",
      "0      9th\n",
      "1      6th\n",
      "2      9th\n",
      "3     10th\n",
      "4      1th\n",
      "5      4th\n",
      "6      2th\n",
      "7      5th\n",
      "8      3th\n",
      "9      1th\n",
      "10     5th\n",
      "11     4th\n",
      "12     6th\n",
      "13     8th\n",
      "14     8th\n",
      "15     7th\n",
      "16    10th\n",
      "17     2th\n",
      "18     7th\n",
      "19     3th\n",
      "dtype: category\n",
      "Categories (10, object): ['1th' < '2th' < '3th' < '4th' ... '7th' < '8th' < '9th' < '10th']\n"
     ]
    }
   ],
   "source": [
    "ser = pd.Series(np.random.random(20))\n",
    "print(ser)\n",
    "print(pd.qcut(ser, 10, labels=[f'{i}th' for i in range(1, 11)]))"
   ]
  },
  {
   "cell_type": "markdown",
   "id": "bd559921-a415-40e4-baad-8525df0548f1",
   "metadata": {
    "jp-MarkdownHeadingCollapsed": true
   },
   "source": [
    "#### Упражнение № 11\r\n",
    "\r\n",
    "Переформируйте ряд `ser` в датафрейм с 7 строками и 5 столбцаи\r\n"
   ]
  },
  {
   "cell_type": "code",
   "execution_count": 11,
   "id": "b53cfd30-defe-4bb4-9cff-0037a6cc752b",
   "metadata": {},
   "outputs": [
    {
     "name": "stdout",
     "output_type": "stream",
     "text": [
      "0     5\n",
      "1     4\n",
      "2     6\n",
      "3     5\n",
      "4     7\n",
      "5     9\n",
      "6     5\n",
      "7     6\n",
      "8     6\n",
      "9     9\n",
      "10    4\n",
      "11    1\n",
      "12    1\n",
      "13    3\n",
      "14    2\n",
      "15    9\n",
      "16    6\n",
      "17    5\n",
      "18    7\n",
      "19    5\n",
      "20    4\n",
      "21    8\n",
      "22    8\n",
      "23    6\n",
      "24    3\n",
      "25    8\n",
      "26    4\n",
      "27    8\n",
      "28    8\n",
      "29    5\n",
      "30    5\n",
      "31    5\n",
      "32    1\n",
      "33    3\n",
      "34    1\n",
      "dtype: int32\n",
      "   0  1  2  3  4\n",
      "0  5  4  6  5  7\n",
      "1  9  5  6  6  9\n",
      "2  4  1  1  3  2\n",
      "3  9  6  5  7  5\n",
      "4  4  8  8  6  3\n",
      "5  8  4  8  8  5\n",
      "6  5  5  1  3  1\n"
     ]
    }
   ],
   "source": [
    "ser = pd.Series(np.random.randint(1, 10, 35))\n",
    "df = pd.DataFrame(ser.values.reshape(7, 5))\n",
    "print(ser)\n",
    "print(df)"
   ]
  },
  {
   "cell_type": "markdown",
   "id": "008cbb8e-80c2-4746-91d8-18dd234ce2ed",
   "metadata": {
    "jp-MarkdownHeadingCollapsed": true
   },
   "source": [
    "#### Упражнение № 12\r\n",
    "\r\n",
    "Найти позиции чисел, кратных 3, из ряда `ser.\r\n"
   ]
  },
  {
   "cell_type": "code",
   "execution_count": 12,
   "id": "37af9e02-ab16-4a24-bc99-6905c0c31814",
   "metadata": {},
   "outputs": [
    {
     "name": "stdout",
     "output_type": "stream",
     "text": [
      "0    7\n",
      "1    4\n",
      "2    6\n",
      "3    1\n",
      "4    9\n",
      "5    6\n",
      "6    8\n",
      "dtype: int32\n",
      "Позиции чисел, кратных 3: Index([2, 4, 5], dtype='int64')\n"
     ]
    }
   ],
   "source": [
    "ser = pd.Series(np.random.randint(1, 10, 7))\n",
    "print(ser)\n",
    "print('Позиции чисел, кратных 3:', ser[ser % 3 == 0].index)"
   ]
  },
  {
   "cell_type": "markdown",
   "id": "0fdfb133-bb94-46ab-b5ed-d28af9d84f5c",
   "metadata": {
    "jp-MarkdownHeadingCollapsed": true
   },
   "source": [
    "#### Упражнение № 13\r\n",
    "\r\n",
    "Из `ser` извлечь элементы, находящиеся на позициях в списке `pos.\r\n"
   ]
  },
  {
   "cell_type": "code",
   "execution_count": 13,
   "id": "d8e6b7bf-c97f-4ee3-a31b-f81c9a64e6b2",
   "metadata": {},
   "outputs": [
    {
     "name": "stdout",
     "output_type": "stream",
     "text": [
      "0     a\n",
      "1     b\n",
      "2     c\n",
      "3     d\n",
      "4     e\n",
      "5     f\n",
      "6     g\n",
      "7     h\n",
      "8     i\n",
      "9     j\n",
      "10    k\n",
      "11    l\n",
      "12    m\n",
      "13    n\n",
      "14    o\n",
      "15    p\n",
      "16    q\n",
      "17    r\n",
      "18    s\n",
      "19    t\n",
      "20    u\n",
      "21    v\n",
      "22    w\n",
      "23    x\n",
      "24    y\n",
      "25    z\n",
      "dtype: object\n",
      "1     b\n",
      "2     c\n",
      "3     d\n",
      "5     f\n",
      "6     g\n",
      "7     h\n",
      "9     j\n",
      "10    k\n",
      "11    l\n",
      "12    m\n",
      "13    n\n",
      "15    p\n",
      "16    q\n",
      "17    r\n",
      "18    s\n",
      "19    t\n",
      "21    v\n",
      "22    w\n",
      "23    x\n",
      "24    y\n",
      "25    z\n",
      "dtype: object\n"
     ]
    }
   ],
   "source": [
    "ser = pd.Series(list('abcdefghijklmnopqrstuvwxyz'))\n",
    "pos = [0, 4, 8, 14, 20]\n",
    "print(ser)\n",
    "print(ser[~ser.index.isin(pos)])"
   ]
  },
  {
   "cell_type": "markdown",
   "id": "934ed41a-f115-4c9e-a7b6-ee155b5be76d",
   "metadata": {
    "jp-MarkdownHeadingCollapsed": true
   },
   "source": [
    "#### Упражнение № 14\r\n",
    "\r\n",
    "Объедините `ser1` и `ser2` по вертикали и горизонтали (чтобы сформировать датафрейм.\r\n"
   ]
  },
  {
   "cell_type": "code",
   "execution_count": 14,
   "id": "15dd83ae-12fe-45c8-b3e6-246d3b84602d",
   "metadata": {},
   "outputs": [
    {
     "name": "stdout",
     "output_type": "stream",
     "text": [
      "Объединение по вертикали:\n",
      "   0  1\n",
      "0  0  a\n",
      "1  1  b\n",
      "2  2  c\n",
      "3  3  d\n",
      "4  4  e\n",
      "Объединение по горизонали:\n",
      "0    0\n",
      "1    1\n",
      "2    2\n",
      "3    3\n",
      "4    4\n",
      "0    a\n",
      "1    b\n",
      "2    c\n",
      "3    d\n",
      "4    e\n",
      "dtype: object\n"
     ]
    }
   ],
   "source": [
    "ser1 = pd.Series(range(5))\n",
    "ser2 = pd.Series(list('abcde'))\n",
    "\n",
    "df_ver = pd.concat([ser1, ser2], axis=1)\n",
    "print(f'Объединение по вертикали:\\n{df_ver}')\n",
    "\n",
    "df_hor = pd.concat([ser1, ser2], axis=0)\n",
    "print(f'Объединение по горизонали:\\n{df_hor}')"
   ]
  },
  {
   "cell_type": "markdown",
   "id": "5f1bcda4-41e2-445d-af5c-ae0dcf6b2cd1",
   "metadata": {
    "jp-MarkdownHeadingCollapsed": true
   },
   "source": [
    "#### Упражнение № 15\r\n",
    "\r\n",
    "Получите позиции элементов `ser2` в `ser1` в виде спис..\r\n"
   ]
  },
  {
   "cell_type": "code",
   "execution_count": 15,
   "id": "936242ba-c4ca-47cb-a8ee-21716a765ec8",
   "metadata": {},
   "outputs": [
    {
     "name": "stdout",
     "output_type": "stream",
     "text": [
      "[0, 4, 5, 8]\n"
     ]
    }
   ],
   "source": [
    "ser1 = pd.Series([10, 9, 6, 5, 3, 1, 12, 8, 13])\n",
    "ser2 = pd.Series([1, 3, 10, 13])\n",
    "\n",
    "print(ser1[ser1.isin(ser2)].index.tolist())"
   ]
  },
  {
   "cell_type": "markdown",
   "id": "06952078-716a-4341-9503-5f49c0ce0d02",
   "metadata": {
    "jp-MarkdownHeadingCollapsed": true
   },
   "source": [
    "#### Упражнение № 16\r\n",
    "\r\n",
    "Вычислить среднеквадратическую ошибку рядов `truth` и `pred\n",
    ".\r\n"
   ]
  },
  {
   "cell_type": "code",
   "execution_count": 16,
   "id": "43a12969-a879-417d-a9a7-4c70e0dcff22",
   "metadata": {},
   "outputs": [
    {
     "name": "stdout",
     "output_type": "stream",
     "text": [
      "0    0\n",
      "1    1\n",
      "2    2\n",
      "3    3\n",
      "4    4\n",
      "5    5\n",
      "6    6\n",
      "7    7\n",
      "8    8\n",
      "9    9\n",
      "dtype: int64\n",
      "0    0.789599\n",
      "1    1.518546\n",
      "2    2.225439\n",
      "3    3.610321\n",
      "4    4.755105\n",
      "5    5.160074\n",
      "6    6.384913\n",
      "7    7.144750\n",
      "8    8.756757\n",
      "9    9.871313\n",
      "dtype: float64\n",
      "Среднеквадратическая ошибка: 0.3412453895585628\n"
     ]
    }
   ],
   "source": [
    "truth = pd.Series(range(10))\n",
    "pred = pd.Series(range(10)) + np.random.random(10)\n",
    "print(truth)\n",
    "print(pred)\n",
    "mse = np.mean((truth - pred)**2)\n",
    "print(f'Среднеквадратическая ошибка: {mse}')"
   ]
  },
  {
   "cell_type": "markdown",
   "id": "682a6326-1858-4474-87cb-c366261420ab",
   "metadata": {
    "jp-MarkdownHeadingCollapsed": true
   },
   "source": [
    "#### Упражнение № 17\r\n",
    "\r\n",
    "В каждом слове `ser` поставьте первый символ каждого слова в верхний регистр.\r\n"
   ]
  },
  {
   "cell_type": "code",
   "execution_count": 17,
   "id": "b323e2af-3025-4282-869f-2776fed10a74",
   "metadata": {},
   "outputs": [
    {
     "name": "stdout",
     "output_type": "stream",
     "text": [
      "0     How\n",
      "1      To\n",
      "2    Kick\n",
      "3    Ass?\n",
      "dtype: object\n"
     ]
    }
   ],
   "source": [
    "ser = pd.Series(['how', 'to', 'kick', 'ass?'])\n",
    "print(ser.str.title())"
   ]
  },
  {
   "cell_type": "markdown",
   "id": "bf4808ee-cef5-4baf-bee5-f4c0f850bd92",
   "metadata": {
    "jp-MarkdownHeadingCollapsed": true
   },
   "source": [
    "#### Упражнение № 18\r\n",
    "\r\n",
    "В каждом слове `ser` посчитайте число символов.\r\n"
   ]
  },
  {
   "cell_type": "code",
   "execution_count": 18,
   "id": "e81f1568-8e2c-424d-9273-44b4f50e4e53",
   "metadata": {},
   "outputs": [
    {
     "name": "stdout",
     "output_type": "stream",
     "text": [
      "0    3\n",
      "1    2\n",
      "2    4\n",
      "3    4\n",
      "dtype: int64\n"
     ]
    }
   ],
   "source": [
    "ser = pd.Series(['how', 'to', 'kick', 'ass?'])\n",
    "print(ser.str.len())"
   ]
  },
  {
   "cell_type": "markdown",
   "id": "a32c4c92-d892-43da-a635-928ac4674cd9",
   "metadata": {
    "jp-MarkdownHeadingCollapsed": true
   },
   "source": [
    "#### Упражнение № 19\r\n",
    "\r\n",
    "Вычислите разность разностей между последовательно идущими числами в `ser`.\r\n"
   ]
  },
  {
   "cell_type": "code",
   "execution_count": 19,
   "id": "c4c0ca06-59df-4899-b931-c737cd2ee860",
   "metadata": {},
   "outputs": [
    {
     "name": "stdout",
     "output_type": "stream",
     "text": [
      "0    NaN\n",
      "1    2.0\n",
      "2    3.0\n",
      "3    4.0\n",
      "4    5.0\n",
      "5    6.0\n",
      "6    6.0\n",
      "7    8.0\n",
      "dtype: float64\n",
      "0    NaN\n",
      "1    NaN\n",
      "2    1.0\n",
      "3    1.0\n",
      "4    1.0\n",
      "5    1.0\n",
      "6    0.0\n",
      "7    2.0\n",
      "dtype: float64\n"
     ]
    }
   ],
   "source": [
    "ser = pd.Series([1, 3, 6, 10, 15, 21, 27, 35])\n",
    "diff = ser.diff()\n",
    "print(diff)\n",
    "diff_diff = diff.diff()\n",
    "print(diff_diff)"
   ]
  },
  {
   "cell_type": "markdown",
   "id": "26f80c72-971e-48de-b9f0-ceadda4537c5",
   "metadata": {
    "jp-MarkdownHeadingCollapsed": true
   },
   "source": [
    "#### Упражнение № 20\r\n",
    "\r\n",
    "Преобразуйте строковое представление дат в `datetime64`.\r\n"
   ]
  },
  {
   "cell_type": "code",
   "execution_count": 20,
   "id": "1ac001cb-9f03-4bba-8e14-38db959f7260",
   "metadata": {},
   "outputs": [
    {
     "name": "stdout",
     "output_type": "stream",
     "text": [
      "0   2010-01-01 00:00:00\n",
      "1   2011-02-02 00:00:00\n",
      "2   2012-03-03 00:00:00\n",
      "3   2013-04-04 00:00:00\n",
      "4   2014-05-05 00:00:00\n",
      "5   2015-06-06 12:20:00\n",
      "dtype: datetime64[ns]\n"
     ]
    }
   ],
   "source": [
    "ser = pd.Series(['01 Jan 2010', '02-02-2011', '20120303', '2013/04/04', '2014-05-05', '2015-06-06T12:20'])\n",
    "dti = pd.Series([pd.to_datetime(date) for date in ser])\n",
    "print(dti)"
   ]
  },
  {
   "cell_type": "markdown",
   "id": "f8f92e0a-cacb-4efc-91a4-625e95550e71",
   "metadata": {
    "jp-MarkdownHeadingCollapsed": true
   },
   "source": [
    "#### Упражнение № 21\r\n",
    "\r\n",
    "Получите из `ser` день месяца, номер недели, день года и день недели.\r\n"
   ]
  },
  {
   "cell_type": "code",
   "execution_count": 21,
   "id": "27a1a204-bd13-4f34-9c0e-54069b73f969",
   "metadata": {},
   "outputs": [
    {
     "name": "stdout",
     "output_type": "stream",
     "text": [
      "Date: [1, 2, 3, 4, 5, 6]\n",
      "Week number: [53, 5, 9, 14, 19, 23]\n",
      "Day num of year: [1, 33, 63, 94, 125, 157]\n",
      "Day of week: ['Friday', 'Wednesday', 'Saturday', 'Thursday', 'Monday', 'Saturday']\n"
     ]
    }
   ],
   "source": [
    "ser = pd.Series(['01 Jan 2010', '02-02-2011', '20120303', '2013/04/04', '2014-05-05', '2015-06-06T12:20'])\n",
    "dti = pd.Series([pd.to_datetime(date) for date in ser])\n",
    "\n",
    "print('Date:', dti.dt.day.tolist())\n",
    "print('Week number:', dti.dt.isocalendar().week.tolist())\n",
    "print('Day num of year:', dti.dt.dayofyear.tolist())\n",
    "print('Day of week:', dti.dt.day_name().tolist())"
   ]
  },
  {
   "cell_type": "markdown",
   "id": "a3516a9b-f49c-4827-b262-2a2a1cdcb449",
   "metadata": {
    "jp-MarkdownHeadingCollapsed": true
   },
   "source": [
    "#### Упражнение № 22\r\n",
    "\r\n",
    "Замените элементы `ser` на даты, начинающиеся с 4-го числа соответствующего месяца.\r\n"
   ]
  },
  {
   "cell_type": "code",
   "execution_count": 22,
   "id": "4d57014f-94e3-4d69-bbbd-02a97c94e257",
   "metadata": {},
   "outputs": [
    {
     "name": "stdout",
     "output_type": "stream",
     "text": [
      "0   2010-01-04\n",
      "1   2011-02-04\n",
      "2   2012-03-04\n",
      "dtype: datetime64[ns]\n"
     ]
    }
   ],
   "source": [
    "ser = pd.Series(['Jan 2010', 'Feb 2011', 'Mar 2012'])\n",
    "dti = pd.Series([pd.to_datetime(date).replace(day=4) for date in ser])\n",
    "print(dti)"
   ]
  },
  {
   "cell_type": "markdown",
   "id": "707f2e93-dd32-411b-b9b7-da89f7bfa2ba",
   "metadata": {
    "jp-MarkdownHeadingCollapsed": true
   },
   "source": [
    "#### Упражнение № 23\r\n",
    "\r\n",
    "Из `ser` извлеките слова, содержащие не менее 2 гласных букв.\r\n"
   ]
  },
  {
   "cell_type": "code",
   "execution_count": 24,
   "id": "19efd860-9d6d-4ff9-934e-0c8890c94d23",
   "metadata": {},
   "outputs": [
    {
     "name": "stdout",
     "output_type": "stream",
     "text": [
      "0     Apple\n",
      "1    Orange\n",
      "3    Python\n",
      "4     Money\n",
      "dtype: object\n"
     ]
    }
   ],
   "source": [
    "ser = pd.Series(['Apple', 'Orange', 'Plan', 'Python', 'Money'])\n",
    "\n",
    "def count_vowels(word):\n",
    "    return sum(1 for letter in word if letter.lower() in 'aeiouy')\n",
    "\n",
    "result = ser[ser.apply(count_vowels) >= 2]\n",
    "\n",
    "print(result)"
   ]
  },
  {
   "cell_type": "markdown",
   "id": "a2291bea-13df-4e85-99fc-8ff1191b5cfd",
   "metadata": {
    "jp-MarkdownHeadingCollapsed": true
   },
   "source": [
    "#### Упражнение № 24\r\n",
    "\r\n",
    "Извлеките корректные адреса электронной почты из ряда `emails`. Шаблон регулярного выражения для корректных адресов электронной почты приведен в качестве образца.\r\n"
   ]
  },
  {
   "cell_type": "code",
   "execution_count": 27,
   "id": "ccce7a45-7832-4856-90a2-0fa64609ad9c",
   "metadata": {},
   "outputs": [
    {
     "name": "stdout",
     "output_type": "stream",
     "text": [
      "1    rameses@egypt.com\n",
      "2            matt@t.co\n",
      "3    narendra@modi.com\n",
      "dtype: object\n"
     ]
    }
   ],
   "source": [
    "emails = pd.Series(['buying books at amazom.com', 'rameses@egypt.com', 'matt@t.co', 'narendra@modi.com'])\n",
    "pattern ='[A-Za-z0-9._%+-]+@[A-Za-z0-9.-]+\\\\.[A-Za-z]{2,4}'\n",
    "print(emails[emails.str.contains(pattern)])"
   ]
  },
  {
   "cell_type": "markdown",
   "id": "e1d90dd2-9bee-4166-9c90-8865f13d8566",
   "metadata": {},
   "source": [
    "#### Упражнение № 25\r\n",
    "\r\n",
    "Вычислить среднее значение веса в `weights` для каждого фрукта из `fruit`.\r\n"
   ]
  },
  {
   "cell_type": "code",
   "execution_count": 44,
   "id": "5b6e6314-6bc4-4971-bf88-b748e5bb0289",
   "metadata": {},
   "outputs": [
    {
     "name": "stdout",
     "output_type": "stream",
     "text": [
      "fruit\n",
      "apple     5.000000\n",
      "banana    4.666667\n",
      "carrot    7.333333\n",
      "Name: weight, dtype: float64\n"
     ]
    }
   ],
   "source": [
    "fruits = pd.Series(np.random.choice(['apple', 'banana', 'carrot'], 10))\n",
    "weights = pd.Series(np.linspace(1, 10, 10))\n",
    "df = pd.DataFrame({'fruit': fruits, 'weight': weights})\n",
    "print(df.groupby('fruit')['weight'].mean())"
   ]
  },
  {
   "cell_type": "code",
   "execution_count": null,
   "id": "995289b2-e016-45d8-bd57-e3b8ea790d1d",
   "metadata": {},
   "outputs": [],
   "source": []
  }
 ],
 "metadata": {
  "kernelspec": {
   "display_name": "Python 3 (ipykernel)",
   "language": "python",
   "name": "python3"
  },
  "language_info": {
   "codemirror_mode": {
    "name": "ipython",
    "version": 3
   },
   "file_extension": ".py",
   "mimetype": "text/x-python",
   "name": "python",
   "nbconvert_exporter": "python",
   "pygments_lexer": "ipython3",
   "version": "3.12.1"
  }
 },
 "nbformat": 4,
 "nbformat_minor": 5
}
